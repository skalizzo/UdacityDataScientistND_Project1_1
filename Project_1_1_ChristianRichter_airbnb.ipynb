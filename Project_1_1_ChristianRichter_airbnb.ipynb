{
 "cells": [
  {
   "cell_type": "markdown",
   "metadata": {},
   "source": [
    "# Udacity Data Scientist Nanodegree\n",
    "## Project 1-1 - Write a Data Science Blog Post\n",
    "Importing the necessary packages"
   ]
  },
  {
   "cell_type": "code",
   "execution_count": 112,
   "metadata": {},
   "outputs": [],
   "source": [
    "import numpy as np\n",
    "import pandas as pd\n",
    "import matplotlib.pyplot as plt\n",
    "from math import sqrt\n",
    "from sklearn.linear_model import LinearRegression, Lasso, Ridge\n",
    "from sklearn.ensemble import RandomForestRegressor, GradientBoostingRegressor\n",
    "from sklearn.model_selection import train_test_split\n",
    "from sklearn.metrics import r2_score, mean_squared_error\n",
    "from sklearn.svm import SVR\n",
    "import seaborn as sns\n",
    "%matplotlib inline\n",
    "\n"
   ]
  },
  {
   "cell_type": "markdown",
   "metadata": {},
   "source": [
    "Gathering the data from csv files"
   ]
  },
  {
   "cell_type": "code",
   "execution_count": 143,
   "metadata": {},
   "outputs": [],
   "source": [
    "dfSeattleListings = pd.read_csv('airbnb_seattle_listings.csv')"
   ]
  },
  {
   "cell_type": "markdown",
   "metadata": {},
   "source": [
    "Defining some Helper Functions"
   ]
  },
  {
   "cell_type": "code",
   "execution_count": 136,
   "metadata": {},
   "outputs": [],
   "source": [
    "def makeCountplot(df, col, xlabel, rotation):\n",
    "    n_points = df.shape[0]\n",
    "    max_count = df[col].value_counts().max()\n",
    "    max_prop = max_count / n_points\n",
    "\n",
    "    # generate tick mark locations and names\n",
    "    tick_props = np.arange(0, max_prop +0.05, 0.05)\n",
    "    tick_names = ['{:0.2f}'.format(v) for v in tick_props]\n",
    "\n",
    "    # create the plot\n",
    "    base_color = sns.color_palette()[0]\n",
    "    sns.countplot(data=df, x=col, color=base_color)\n",
    "    plt.xticks(rotation=rotation)\n",
    "    plt.yticks(tick_props * n_points, tick_names)\n",
    "    plt.ylabel('Proportion')\n",
    "    plt.xlabel(xlabel)\n",
    "\n",
    "def create_dummy_df(df:pd.DataFrame, cat_cols, dummy_na):\n",
    "    '''\n",
    "    INPUT:\n",
    "    df - pandas dataframe with categorical variables you want to dummy\n",
    "    cat_cols - list of strings that are associated with names of the categorical columns\n",
    "    dummy_na - Bool holding whether you want to dummy NA vals of categorical columns or not\n",
    "    OUTPUT:\n",
    "    df - a new dataframe that has the following characteristics:\n",
    "            1. contains all columns that were not specified as categorical\n",
    "            2. removes all the original columns in cat_cols\n",
    "            3. dummy columns for each of the categorical columns in cat_cols\n",
    "            4. if dummy_na is True - it also contains dummy columns for the NaN values\n",
    "            5. Use a prefix of the column name with an underscore (_) for separating\n",
    "    '''\n",
    "    for col in cat_cols:\n",
    "        try:\n",
    "            # for each cat add dummy var, drop original column\n",
    "            df = pd.concat([df.drop(col, axis=1), pd.get_dummies(df[col], prefix=col, prefix_sep='_', drop_first=True,\n",
    "                                           dummy_na=dummy_na)], axis=1)\n",
    "        except:\n",
    "            continue\n",
    "    return df\n",
    "\n",
    "def to_int(x):\n",
    "    '''\n",
    "    Columns value corrections\n",
    "    INPUT:\n",
    "    x - value that should be corrected\n",
    "    OUTPUT:\n",
    "    x converted to an integer representation (0/1)\n",
    "    '''\n",
    "    if x=='f':\n",
    "        x=x.replace('f','0')\n",
    "    elif x=='t':\n",
    "        x=x.replace('t','1')\n",
    "    else:\n",
    "        x= '0'\n",
    "    return int(x)\n",
    "\n",
    "def convertStrToBoolean(df):\n",
    "    '''\n",
    "    Changes the string of boolean (t / f) into int of boolean (1/0)\n",
    "    INPUT:\n",
    "    df - pandas dataframe with variables containing a string of boolean (t / f)\n",
    "    OUTPUT:\n",
    "    df - a new dataframe including the converted columns\n",
    "    '''\n",
    "    # Change the string of boolean (t / f) into int of boolean (1/0)\n",
    "    for i in df.columns:  \n",
    "        if set(df[i])=={'t','f'} or set(df[i]) == {'t','f',np.nan}:\n",
    "            df[i]=df[i].apply(to_int)\n",
    "    return df\n",
    "\n",
    "def convertAmenities(x):\n",
    "    '''\n",
    "    Converts the Amenities column into more analytical words\n",
    "    '''\n",
    "    val = x.replace('{','').replace('}','').replace('\"','').replace(' ','_').replace(',',' ')\n",
    "    val = val.split()\n",
    "    return val\n",
    "\n",
    "def plotFeatureImportance(df, model):\n",
    "    plt.figure(figsize=(12, 20))\n",
    "    feature_importance = model.feature_importances_\n",
    "    # make importances relative to max importance\n",
    "    feature_importance = 100.0 * (feature_importance / feature_importance.max())\n",
    "    sorted_idx = np.argsort(feature_importance)\n",
    "    pos = np.arange(sorted_idx.shape[0]) + .5\n",
    "    plt.barh(pos, feature_importance[sorted_idx], align='center')\n",
    "    plt.yticks(pos, df.columns[sorted_idx])\n",
    "    plt.xlabel('Relative Importance')\n",
    "    plt.title('Variable Importance')\n",
    "    plt.show()\n",
    "    \n",
    "def fitAndScoreModel(X_train, y_train, model):\n",
    "    model.fit(X_train, y_train)\n",
    "    y_test_preds = model.predict(X_test)\n",
    "    y_train_preds = model.predict(X_train)\n",
    "\n",
    "    # Score using our model\n",
    "    test_score = r2_score(y_test, y_test_preds)\n",
    "    train_score = r2_score(y_train, y_train_preds)\n",
    "    rmse = sqrt(mean_squared_error(y_test, model.predict(X_test)))\n",
    "    print(f'test score: {test_score}')\n",
    "    print(f'train score: {train_score}')\n",
    "    print(\"RMSE: %.4f\" % rmse)\n",
    "    return model, test_score, train_score, rmse\n",
    "\n",
    "def plotPredVsResiduals(model, model_name):\n",
    "    y_test_preds = model.predict(X_test)\n",
    "    y_train_preds = model.predict(X_train)\n",
    "\n",
    "    plt.scatter(y_train_preds,  y_train_preds - y_train,\n",
    "                c='blue', marker='o', label='Training data')\n",
    "    plt.scatter(y_test_preds,  y_test_preds - y_test,\n",
    "                c='lightgreen', marker='s', label='Test data')\n",
    "    plt.xlabel('Predicted values')\n",
    "    plt.ylabel('Residuals')\n",
    "    plt.legend(loc='upper left')\n",
    "    plt.title(model_name + ' - Predicted values vs. Residuals')\n",
    "    plt.show()"
   ]
  },
  {
   "cell_type": "markdown",
   "metadata": {},
   "source": [
    "First we'll look at the size of the dataset."
   ]
  },
  {
   "cell_type": "code",
   "execution_count": 4,
   "metadata": {},
   "outputs": [
    {
     "name": "stdout",
     "output_type": "stream",
     "text": [
      "There are 3818 rows and 92 columns in the dataset!\n"
     ]
    }
   ],
   "source": [
    "num_rows = dfSeattleListings.shape[0] \n",
    "num_cols = dfSeattleListings.shape[1] \n",
    "print(f'There are {num_rows} rows and {num_cols} columns in the dataset!')\n"
   ]
  },
  {
   "cell_type": "markdown",
   "metadata": {},
   "source": [
    "Get a sneak peak at the dataset"
   ]
  },
  {
   "cell_type": "code",
   "execution_count": 5,
   "metadata": {},
   "outputs": [
    {
     "data": {
      "text/html": [
       "<div>\n",
       "<style scoped>\n",
       "    .dataframe tbody tr th:only-of-type {\n",
       "        vertical-align: middle;\n",
       "    }\n",
       "\n",
       "    .dataframe tbody tr th {\n",
       "        vertical-align: top;\n",
       "    }\n",
       "\n",
       "    .dataframe thead th {\n",
       "        text-align: right;\n",
       "    }\n",
       "</style>\n",
       "<table border=\"1\" class=\"dataframe\">\n",
       "  <thead>\n",
       "    <tr style=\"text-align: right;\">\n",
       "      <th></th>\n",
       "      <th>id</th>\n",
       "      <th>listing_url</th>\n",
       "      <th>scrape_id</th>\n",
       "      <th>last_scraped</th>\n",
       "      <th>name</th>\n",
       "      <th>summary</th>\n",
       "      <th>space</th>\n",
       "      <th>description</th>\n",
       "      <th>experiences_offered</th>\n",
       "      <th>neighborhood_overview</th>\n",
       "      <th>...</th>\n",
       "      <th>review_scores_value</th>\n",
       "      <th>requires_license</th>\n",
       "      <th>license</th>\n",
       "      <th>jurisdiction_names</th>\n",
       "      <th>instant_bookable</th>\n",
       "      <th>cancellation_policy</th>\n",
       "      <th>require_guest_profile_picture</th>\n",
       "      <th>require_guest_phone_verification</th>\n",
       "      <th>calculated_host_listings_count</th>\n",
       "      <th>reviews_per_month</th>\n",
       "    </tr>\n",
       "  </thead>\n",
       "  <tbody>\n",
       "    <tr>\n",
       "      <td>0</td>\n",
       "      <td>241032</td>\n",
       "      <td>https://www.airbnb.com/rooms/241032</td>\n",
       "      <td>20160104002432</td>\n",
       "      <td>2016-01-04</td>\n",
       "      <td>Stylish Queen Anne Apartment</td>\n",
       "      <td>NaN</td>\n",
       "      <td>Make your self at home in this charming one-be...</td>\n",
       "      <td>Make your self at home in this charming one-be...</td>\n",
       "      <td>none</td>\n",
       "      <td>NaN</td>\n",
       "      <td>...</td>\n",
       "      <td>10.0</td>\n",
       "      <td>f</td>\n",
       "      <td>NaN</td>\n",
       "      <td>WASHINGTON</td>\n",
       "      <td>f</td>\n",
       "      <td>moderate</td>\n",
       "      <td>f</td>\n",
       "      <td>f</td>\n",
       "      <td>2</td>\n",
       "      <td>4.07</td>\n",
       "    </tr>\n",
       "    <tr>\n",
       "      <td>1</td>\n",
       "      <td>953595</td>\n",
       "      <td>https://www.airbnb.com/rooms/953595</td>\n",
       "      <td>20160104002432</td>\n",
       "      <td>2016-01-04</td>\n",
       "      <td>Bright &amp; Airy Queen Anne Apartment</td>\n",
       "      <td>Chemically sensitive? We've removed the irrita...</td>\n",
       "      <td>Beautiful, hypoallergenic apartment in an extr...</td>\n",
       "      <td>Chemically sensitive? We've removed the irrita...</td>\n",
       "      <td>none</td>\n",
       "      <td>Queen Anne is a wonderful, truly functional vi...</td>\n",
       "      <td>...</td>\n",
       "      <td>10.0</td>\n",
       "      <td>f</td>\n",
       "      <td>NaN</td>\n",
       "      <td>WASHINGTON</td>\n",
       "      <td>f</td>\n",
       "      <td>strict</td>\n",
       "      <td>t</td>\n",
       "      <td>t</td>\n",
       "      <td>6</td>\n",
       "      <td>1.48</td>\n",
       "    </tr>\n",
       "    <tr>\n",
       "      <td>2</td>\n",
       "      <td>3308979</td>\n",
       "      <td>https://www.airbnb.com/rooms/3308979</td>\n",
       "      <td>20160104002432</td>\n",
       "      <td>2016-01-04</td>\n",
       "      <td>New Modern House-Amazing water view</td>\n",
       "      <td>New modern house built in 2013.  Spectacular s...</td>\n",
       "      <td>Our house is modern, light and fresh with a wa...</td>\n",
       "      <td>New modern house built in 2013.  Spectacular s...</td>\n",
       "      <td>none</td>\n",
       "      <td>Upper Queen Anne is a charming neighborhood fu...</td>\n",
       "      <td>...</td>\n",
       "      <td>10.0</td>\n",
       "      <td>f</td>\n",
       "      <td>NaN</td>\n",
       "      <td>WASHINGTON</td>\n",
       "      <td>f</td>\n",
       "      <td>strict</td>\n",
       "      <td>f</td>\n",
       "      <td>f</td>\n",
       "      <td>2</td>\n",
       "      <td>1.15</td>\n",
       "    </tr>\n",
       "    <tr>\n",
       "      <td>3</td>\n",
       "      <td>7421966</td>\n",
       "      <td>https://www.airbnb.com/rooms/7421966</td>\n",
       "      <td>20160104002432</td>\n",
       "      <td>2016-01-04</td>\n",
       "      <td>Queen Anne Chateau</td>\n",
       "      <td>A charming apartment that sits atop Queen Anne...</td>\n",
       "      <td>NaN</td>\n",
       "      <td>A charming apartment that sits atop Queen Anne...</td>\n",
       "      <td>none</td>\n",
       "      <td>NaN</td>\n",
       "      <td>...</td>\n",
       "      <td>NaN</td>\n",
       "      <td>f</td>\n",
       "      <td>NaN</td>\n",
       "      <td>WASHINGTON</td>\n",
       "      <td>f</td>\n",
       "      <td>flexible</td>\n",
       "      <td>f</td>\n",
       "      <td>f</td>\n",
       "      <td>1</td>\n",
       "      <td>NaN</td>\n",
       "    </tr>\n",
       "    <tr>\n",
       "      <td>4</td>\n",
       "      <td>278830</td>\n",
       "      <td>https://www.airbnb.com/rooms/278830</td>\n",
       "      <td>20160104002432</td>\n",
       "      <td>2016-01-04</td>\n",
       "      <td>Charming craftsman 3 bdm house</td>\n",
       "      <td>Cozy family craftman house in beautiful neighb...</td>\n",
       "      <td>Cozy family craftman house in beautiful neighb...</td>\n",
       "      <td>Cozy family craftman house in beautiful neighb...</td>\n",
       "      <td>none</td>\n",
       "      <td>We are in the beautiful neighborhood of Queen ...</td>\n",
       "      <td>...</td>\n",
       "      <td>9.0</td>\n",
       "      <td>f</td>\n",
       "      <td>NaN</td>\n",
       "      <td>WASHINGTON</td>\n",
       "      <td>f</td>\n",
       "      <td>strict</td>\n",
       "      <td>f</td>\n",
       "      <td>f</td>\n",
       "      <td>1</td>\n",
       "      <td>0.89</td>\n",
       "    </tr>\n",
       "  </tbody>\n",
       "</table>\n",
       "<p>5 rows × 92 columns</p>\n",
       "</div>"
      ],
      "text/plain": [
       "        id                           listing_url       scrape_id last_scraped  \\\n",
       "0   241032   https://www.airbnb.com/rooms/241032  20160104002432   2016-01-04   \n",
       "1   953595   https://www.airbnb.com/rooms/953595  20160104002432   2016-01-04   \n",
       "2  3308979  https://www.airbnb.com/rooms/3308979  20160104002432   2016-01-04   \n",
       "3  7421966  https://www.airbnb.com/rooms/7421966  20160104002432   2016-01-04   \n",
       "4   278830   https://www.airbnb.com/rooms/278830  20160104002432   2016-01-04   \n",
       "\n",
       "                                  name  \\\n",
       "0         Stylish Queen Anne Apartment   \n",
       "1   Bright & Airy Queen Anne Apartment   \n",
       "2  New Modern House-Amazing water view   \n",
       "3                   Queen Anne Chateau   \n",
       "4       Charming craftsman 3 bdm house   \n",
       "\n",
       "                                             summary  \\\n",
       "0                                                NaN   \n",
       "1  Chemically sensitive? We've removed the irrita...   \n",
       "2  New modern house built in 2013.  Spectacular s...   \n",
       "3  A charming apartment that sits atop Queen Anne...   \n",
       "4  Cozy family craftman house in beautiful neighb...   \n",
       "\n",
       "                                               space  \\\n",
       "0  Make your self at home in this charming one-be...   \n",
       "1  Beautiful, hypoallergenic apartment in an extr...   \n",
       "2  Our house is modern, light and fresh with a wa...   \n",
       "3                                                NaN   \n",
       "4  Cozy family craftman house in beautiful neighb...   \n",
       "\n",
       "                                         description experiences_offered  \\\n",
       "0  Make your self at home in this charming one-be...                none   \n",
       "1  Chemically sensitive? We've removed the irrita...                none   \n",
       "2  New modern house built in 2013.  Spectacular s...                none   \n",
       "3  A charming apartment that sits atop Queen Anne...                none   \n",
       "4  Cozy family craftman house in beautiful neighb...                none   \n",
       "\n",
       "                               neighborhood_overview  ... review_scores_value  \\\n",
       "0                                                NaN  ...                10.0   \n",
       "1  Queen Anne is a wonderful, truly functional vi...  ...                10.0   \n",
       "2  Upper Queen Anne is a charming neighborhood fu...  ...                10.0   \n",
       "3                                                NaN  ...                 NaN   \n",
       "4  We are in the beautiful neighborhood of Queen ...  ...                 9.0   \n",
       "\n",
       "  requires_license license jurisdiction_names instant_bookable  \\\n",
       "0                f     NaN         WASHINGTON                f   \n",
       "1                f     NaN         WASHINGTON                f   \n",
       "2                f     NaN         WASHINGTON                f   \n",
       "3                f     NaN         WASHINGTON                f   \n",
       "4                f     NaN         WASHINGTON                f   \n",
       "\n",
       "  cancellation_policy  require_guest_profile_picture  \\\n",
       "0            moderate                              f   \n",
       "1              strict                              t   \n",
       "2              strict                              f   \n",
       "3            flexible                              f   \n",
       "4              strict                              f   \n",
       "\n",
       "  require_guest_phone_verification calculated_host_listings_count  \\\n",
       "0                                f                              2   \n",
       "1                                t                              6   \n",
       "2                                f                              2   \n",
       "3                                f                              1   \n",
       "4                                f                              1   \n",
       "\n",
       "  reviews_per_month  \n",
       "0              4.07  \n",
       "1              1.48  \n",
       "2              1.15  \n",
       "3               NaN  \n",
       "4              0.89  \n",
       "\n",
       "[5 rows x 92 columns]"
      ]
     },
     "execution_count": 5,
     "metadata": {},
     "output_type": "execute_result"
    }
   ],
   "source": [
    "dfSeattleListings.head()"
   ]
  },
  {
   "cell_type": "code",
   "execution_count": null,
   "metadata": {},
   "outputs": [],
   "source": []
  },
  {
   "cell_type": "code",
   "execution_count": 6,
   "metadata": {},
   "outputs": [
    {
     "data": {
      "text/html": [
       "<div>\n",
       "<style scoped>\n",
       "    .dataframe tbody tr th:only-of-type {\n",
       "        vertical-align: middle;\n",
       "    }\n",
       "\n",
       "    .dataframe tbody tr th {\n",
       "        vertical-align: top;\n",
       "    }\n",
       "\n",
       "    .dataframe thead th {\n",
       "        text-align: right;\n",
       "    }\n",
       "</style>\n",
       "<table border=\"1\" class=\"dataframe\">\n",
       "  <thead>\n",
       "    <tr style=\"text-align: right;\">\n",
       "      <th></th>\n",
       "      <th>id</th>\n",
       "      <th>scrape_id</th>\n",
       "      <th>host_id</th>\n",
       "      <th>host_listings_count</th>\n",
       "      <th>host_total_listings_count</th>\n",
       "      <th>latitude</th>\n",
       "      <th>longitude</th>\n",
       "      <th>accommodates</th>\n",
       "      <th>bathrooms</th>\n",
       "      <th>bedrooms</th>\n",
       "      <th>...</th>\n",
       "      <th>review_scores_rating</th>\n",
       "      <th>review_scores_accuracy</th>\n",
       "      <th>review_scores_cleanliness</th>\n",
       "      <th>review_scores_checkin</th>\n",
       "      <th>review_scores_communication</th>\n",
       "      <th>review_scores_location</th>\n",
       "      <th>review_scores_value</th>\n",
       "      <th>license</th>\n",
       "      <th>calculated_host_listings_count</th>\n",
       "      <th>reviews_per_month</th>\n",
       "    </tr>\n",
       "  </thead>\n",
       "  <tbody>\n",
       "    <tr>\n",
       "      <td>count</td>\n",
       "      <td>3.818000e+03</td>\n",
       "      <td>3.818000e+03</td>\n",
       "      <td>3.818000e+03</td>\n",
       "      <td>3816.000000</td>\n",
       "      <td>3816.000000</td>\n",
       "      <td>3818.000000</td>\n",
       "      <td>3818.000000</td>\n",
       "      <td>3818.000000</td>\n",
       "      <td>3802.000000</td>\n",
       "      <td>3812.000000</td>\n",
       "      <td>...</td>\n",
       "      <td>3171.000000</td>\n",
       "      <td>3160.000000</td>\n",
       "      <td>3165.000000</td>\n",
       "      <td>3160.000000</td>\n",
       "      <td>3167.000000</td>\n",
       "      <td>3163.000000</td>\n",
       "      <td>3162.000000</td>\n",
       "      <td>0.0</td>\n",
       "      <td>3818.000000</td>\n",
       "      <td>3191.000000</td>\n",
       "    </tr>\n",
       "    <tr>\n",
       "      <td>mean</td>\n",
       "      <td>5.550111e+06</td>\n",
       "      <td>2.016010e+13</td>\n",
       "      <td>1.578556e+07</td>\n",
       "      <td>7.157757</td>\n",
       "      <td>7.157757</td>\n",
       "      <td>47.628961</td>\n",
       "      <td>-122.333103</td>\n",
       "      <td>3.349398</td>\n",
       "      <td>1.259469</td>\n",
       "      <td>1.307712</td>\n",
       "      <td>...</td>\n",
       "      <td>94.539262</td>\n",
       "      <td>9.636392</td>\n",
       "      <td>9.556398</td>\n",
       "      <td>9.786709</td>\n",
       "      <td>9.809599</td>\n",
       "      <td>9.608916</td>\n",
       "      <td>9.452245</td>\n",
       "      <td>NaN</td>\n",
       "      <td>2.946307</td>\n",
       "      <td>2.078919</td>\n",
       "    </tr>\n",
       "    <tr>\n",
       "      <td>std</td>\n",
       "      <td>2.962660e+06</td>\n",
       "      <td>0.000000e+00</td>\n",
       "      <td>1.458382e+07</td>\n",
       "      <td>28.628149</td>\n",
       "      <td>28.628149</td>\n",
       "      <td>0.043052</td>\n",
       "      <td>0.031745</td>\n",
       "      <td>1.977599</td>\n",
       "      <td>0.590369</td>\n",
       "      <td>0.883395</td>\n",
       "      <td>...</td>\n",
       "      <td>6.606083</td>\n",
       "      <td>0.698031</td>\n",
       "      <td>0.797274</td>\n",
       "      <td>0.595499</td>\n",
       "      <td>0.568211</td>\n",
       "      <td>0.629053</td>\n",
       "      <td>0.750259</td>\n",
       "      <td>NaN</td>\n",
       "      <td>5.893029</td>\n",
       "      <td>1.822348</td>\n",
       "    </tr>\n",
       "    <tr>\n",
       "      <td>min</td>\n",
       "      <td>3.335000e+03</td>\n",
       "      <td>2.016010e+13</td>\n",
       "      <td>4.193000e+03</td>\n",
       "      <td>1.000000</td>\n",
       "      <td>1.000000</td>\n",
       "      <td>47.505088</td>\n",
       "      <td>-122.417219</td>\n",
       "      <td>1.000000</td>\n",
       "      <td>0.000000</td>\n",
       "      <td>0.000000</td>\n",
       "      <td>...</td>\n",
       "      <td>20.000000</td>\n",
       "      <td>2.000000</td>\n",
       "      <td>3.000000</td>\n",
       "      <td>2.000000</td>\n",
       "      <td>2.000000</td>\n",
       "      <td>4.000000</td>\n",
       "      <td>2.000000</td>\n",
       "      <td>NaN</td>\n",
       "      <td>1.000000</td>\n",
       "      <td>0.020000</td>\n",
       "    </tr>\n",
       "    <tr>\n",
       "      <td>25%</td>\n",
       "      <td>3.258256e+06</td>\n",
       "      <td>2.016010e+13</td>\n",
       "      <td>3.275204e+06</td>\n",
       "      <td>1.000000</td>\n",
       "      <td>1.000000</td>\n",
       "      <td>47.609418</td>\n",
       "      <td>-122.354320</td>\n",
       "      <td>2.000000</td>\n",
       "      <td>1.000000</td>\n",
       "      <td>1.000000</td>\n",
       "      <td>...</td>\n",
       "      <td>93.000000</td>\n",
       "      <td>9.000000</td>\n",
       "      <td>9.000000</td>\n",
       "      <td>10.000000</td>\n",
       "      <td>10.000000</td>\n",
       "      <td>9.000000</td>\n",
       "      <td>9.000000</td>\n",
       "      <td>NaN</td>\n",
       "      <td>1.000000</td>\n",
       "      <td>0.695000</td>\n",
       "    </tr>\n",
       "    <tr>\n",
       "      <td>50%</td>\n",
       "      <td>6.118244e+06</td>\n",
       "      <td>2.016010e+13</td>\n",
       "      <td>1.055814e+07</td>\n",
       "      <td>1.000000</td>\n",
       "      <td>1.000000</td>\n",
       "      <td>47.623601</td>\n",
       "      <td>-122.328874</td>\n",
       "      <td>3.000000</td>\n",
       "      <td>1.000000</td>\n",
       "      <td>1.000000</td>\n",
       "      <td>...</td>\n",
       "      <td>96.000000</td>\n",
       "      <td>10.000000</td>\n",
       "      <td>10.000000</td>\n",
       "      <td>10.000000</td>\n",
       "      <td>10.000000</td>\n",
       "      <td>10.000000</td>\n",
       "      <td>10.000000</td>\n",
       "      <td>NaN</td>\n",
       "      <td>1.000000</td>\n",
       "      <td>1.540000</td>\n",
       "    </tr>\n",
       "    <tr>\n",
       "      <td>75%</td>\n",
       "      <td>8.035127e+06</td>\n",
       "      <td>2.016010e+13</td>\n",
       "      <td>2.590309e+07</td>\n",
       "      <td>3.000000</td>\n",
       "      <td>3.000000</td>\n",
       "      <td>47.662694</td>\n",
       "      <td>-122.310800</td>\n",
       "      <td>4.000000</td>\n",
       "      <td>1.000000</td>\n",
       "      <td>2.000000</td>\n",
       "      <td>...</td>\n",
       "      <td>99.000000</td>\n",
       "      <td>10.000000</td>\n",
       "      <td>10.000000</td>\n",
       "      <td>10.000000</td>\n",
       "      <td>10.000000</td>\n",
       "      <td>10.000000</td>\n",
       "      <td>10.000000</td>\n",
       "      <td>NaN</td>\n",
       "      <td>2.000000</td>\n",
       "      <td>3.000000</td>\n",
       "    </tr>\n",
       "    <tr>\n",
       "      <td>max</td>\n",
       "      <td>1.034016e+07</td>\n",
       "      <td>2.016010e+13</td>\n",
       "      <td>5.320861e+07</td>\n",
       "      <td>502.000000</td>\n",
       "      <td>502.000000</td>\n",
       "      <td>47.733358</td>\n",
       "      <td>-122.240607</td>\n",
       "      <td>16.000000</td>\n",
       "      <td>8.000000</td>\n",
       "      <td>7.000000</td>\n",
       "      <td>...</td>\n",
       "      <td>100.000000</td>\n",
       "      <td>10.000000</td>\n",
       "      <td>10.000000</td>\n",
       "      <td>10.000000</td>\n",
       "      <td>10.000000</td>\n",
       "      <td>10.000000</td>\n",
       "      <td>10.000000</td>\n",
       "      <td>NaN</td>\n",
       "      <td>37.000000</td>\n",
       "      <td>12.150000</td>\n",
       "    </tr>\n",
       "  </tbody>\n",
       "</table>\n",
       "<p>8 rows × 30 columns</p>\n",
       "</div>"
      ],
      "text/plain": [
       "                 id     scrape_id       host_id  host_listings_count  \\\n",
       "count  3.818000e+03  3.818000e+03  3.818000e+03          3816.000000   \n",
       "mean   5.550111e+06  2.016010e+13  1.578556e+07             7.157757   \n",
       "std    2.962660e+06  0.000000e+00  1.458382e+07            28.628149   \n",
       "min    3.335000e+03  2.016010e+13  4.193000e+03             1.000000   \n",
       "25%    3.258256e+06  2.016010e+13  3.275204e+06             1.000000   \n",
       "50%    6.118244e+06  2.016010e+13  1.055814e+07             1.000000   \n",
       "75%    8.035127e+06  2.016010e+13  2.590309e+07             3.000000   \n",
       "max    1.034016e+07  2.016010e+13  5.320861e+07           502.000000   \n",
       "\n",
       "       host_total_listings_count     latitude    longitude  accommodates  \\\n",
       "count                3816.000000  3818.000000  3818.000000   3818.000000   \n",
       "mean                    7.157757    47.628961  -122.333103      3.349398   \n",
       "std                    28.628149     0.043052     0.031745      1.977599   \n",
       "min                     1.000000    47.505088  -122.417219      1.000000   \n",
       "25%                     1.000000    47.609418  -122.354320      2.000000   \n",
       "50%                     1.000000    47.623601  -122.328874      3.000000   \n",
       "75%                     3.000000    47.662694  -122.310800      4.000000   \n",
       "max                   502.000000    47.733358  -122.240607     16.000000   \n",
       "\n",
       "         bathrooms     bedrooms  ...  review_scores_rating  \\\n",
       "count  3802.000000  3812.000000  ...           3171.000000   \n",
       "mean      1.259469     1.307712  ...             94.539262   \n",
       "std       0.590369     0.883395  ...              6.606083   \n",
       "min       0.000000     0.000000  ...             20.000000   \n",
       "25%       1.000000     1.000000  ...             93.000000   \n",
       "50%       1.000000     1.000000  ...             96.000000   \n",
       "75%       1.000000     2.000000  ...             99.000000   \n",
       "max       8.000000     7.000000  ...            100.000000   \n",
       "\n",
       "       review_scores_accuracy  review_scores_cleanliness  \\\n",
       "count             3160.000000                3165.000000   \n",
       "mean                 9.636392                   9.556398   \n",
       "std                  0.698031                   0.797274   \n",
       "min                  2.000000                   3.000000   \n",
       "25%                  9.000000                   9.000000   \n",
       "50%                 10.000000                  10.000000   \n",
       "75%                 10.000000                  10.000000   \n",
       "max                 10.000000                  10.000000   \n",
       "\n",
       "       review_scores_checkin  review_scores_communication  \\\n",
       "count            3160.000000                  3167.000000   \n",
       "mean                9.786709                     9.809599   \n",
       "std                 0.595499                     0.568211   \n",
       "min                 2.000000                     2.000000   \n",
       "25%                10.000000                    10.000000   \n",
       "50%                10.000000                    10.000000   \n",
       "75%                10.000000                    10.000000   \n",
       "max                10.000000                    10.000000   \n",
       "\n",
       "       review_scores_location  review_scores_value  license  \\\n",
       "count             3163.000000          3162.000000      0.0   \n",
       "mean                 9.608916             9.452245      NaN   \n",
       "std                  0.629053             0.750259      NaN   \n",
       "min                  4.000000             2.000000      NaN   \n",
       "25%                  9.000000             9.000000      NaN   \n",
       "50%                 10.000000            10.000000      NaN   \n",
       "75%                 10.000000            10.000000      NaN   \n",
       "max                 10.000000            10.000000      NaN   \n",
       "\n",
       "       calculated_host_listings_count  reviews_per_month  \n",
       "count                     3818.000000        3191.000000  \n",
       "mean                         2.946307           2.078919  \n",
       "std                          5.893029           1.822348  \n",
       "min                          1.000000           0.020000  \n",
       "25%                          1.000000           0.695000  \n",
       "50%                          1.000000           1.540000  \n",
       "75%                          2.000000           3.000000  \n",
       "max                         37.000000          12.150000  \n",
       "\n",
       "[8 rows x 30 columns]"
      ]
     },
     "execution_count": 6,
     "metadata": {},
     "output_type": "execute_result"
    }
   ],
   "source": [
    "dfSeattleListings.describe()"
   ]
  },
  {
   "cell_type": "markdown",
   "metadata": {},
   "source": []
  },
  {
   "cell_type": "code",
   "execution_count": 7,
   "metadata": {},
   "outputs": [
    {
     "data": {
      "text/plain": [
       "array(['id', 'listing_url', 'scrape_id', 'last_scraped', 'name',\n",
       "       'summary', 'space', 'description', 'experiences_offered',\n",
       "       'neighborhood_overview', 'notes', 'transit', 'thumbnail_url',\n",
       "       'medium_url', 'picture_url', 'xl_picture_url', 'host_id',\n",
       "       'host_url', 'host_name', 'host_since', 'host_location',\n",
       "       'host_about', 'host_response_time', 'host_response_rate',\n",
       "       'host_acceptance_rate', 'host_is_superhost', 'host_thumbnail_url',\n",
       "       'host_picture_url', 'host_neighbourhood', 'host_listings_count',\n",
       "       'host_total_listings_count', 'host_verifications',\n",
       "       'host_has_profile_pic', 'host_identity_verified', 'street',\n",
       "       'neighbourhood', 'neighbourhood_cleansed',\n",
       "       'neighbourhood_group_cleansed', 'city', 'state', 'zipcode',\n",
       "       'market', 'smart_location', 'country_code', 'country', 'latitude',\n",
       "       'longitude', 'is_location_exact', 'property_type', 'room_type',\n",
       "       'accommodates', 'bathrooms', 'bedrooms', 'beds', 'bed_type',\n",
       "       'amenities', 'square_feet', 'price', 'weekly_price',\n",
       "       'monthly_price', 'security_deposit', 'cleaning_fee',\n",
       "       'guests_included', 'extra_people', 'minimum_nights',\n",
       "       'maximum_nights', 'calendar_updated', 'has_availability',\n",
       "       'availability_30', 'availability_60', 'availability_90',\n",
       "       'availability_365', 'calendar_last_scraped', 'number_of_reviews',\n",
       "       'first_review', 'last_review', 'review_scores_rating',\n",
       "       'review_scores_accuracy', 'review_scores_cleanliness',\n",
       "       'review_scores_checkin', 'review_scores_communication',\n",
       "       'review_scores_location', 'review_scores_value',\n",
       "       'requires_license', 'license', 'jurisdiction_names',\n",
       "       'instant_bookable', 'cancellation_policy',\n",
       "       'require_guest_profile_picture',\n",
       "       'require_guest_phone_verification',\n",
       "       'calculated_host_listings_count', 'reviews_per_month'],\n",
       "      dtype=object)"
      ]
     },
     "execution_count": 7,
     "metadata": {},
     "output_type": "execute_result"
    }
   ],
   "source": [
    "dfSeattleListings.columns.values"
   ]
  },
  {
   "cell_type": "code",
   "execution_count": 8,
   "metadata": {},
   "outputs": [
    {
     "data": {
      "text/plain": [
       "[['license', 100.0],\n",
       " ['square_feet', 97.46],\n",
       " ['monthly_price', 60.27],\n",
       " ['security_deposit', 51.13],\n",
       " ['weekly_price', 47.38],\n",
       " ['notes', 42.06],\n",
       " ['neighborhood_overview', 27.03],\n",
       " ['cleaning_fee', 26.98],\n",
       " ['transit', 24.46],\n",
       " ['host_about', 22.5],\n",
       " ['host_acceptance_rate', 20.25],\n",
       " ['review_scores_accuracy', 17.23],\n",
       " ['review_scores_checkin', 17.23],\n",
       " ['review_scores_value', 17.18],\n",
       " ['review_scores_location', 17.16],\n",
       " ['review_scores_cleanliness', 17.1],\n",
       " ['review_scores_communication', 17.05],\n",
       " ['review_scores_rating', 16.95],\n",
       " ['first_review', 16.42],\n",
       " ['last_review', 16.42],\n",
       " ['reviews_per_month', 16.42],\n",
       " ['space', 14.9],\n",
       " ['host_response_time', 13.7],\n",
       " ['host_response_rate', 13.7],\n",
       " ['neighbourhood', 10.9],\n",
       " ['thumbnail_url', 8.38],\n",
       " ['medium_url', 8.38],\n",
       " ['xl_picture_url', 8.38],\n",
       " ['host_neighbourhood', 7.86],\n",
       " ['summary', 4.64],\n",
       " ['bathrooms', 0.42],\n",
       " ['host_location', 0.21],\n",
       " ['zipcode', 0.18],\n",
       " ['bedrooms', 0.16],\n",
       " ['host_name', 0.05],\n",
       " ['host_since', 0.05],\n",
       " ['host_is_superhost', 0.05],\n",
       " ['host_thumbnail_url', 0.05],\n",
       " ['host_picture_url', 0.05],\n",
       " ['host_listings_count', 0.05],\n",
       " ['host_total_listings_count', 0.05],\n",
       " ['host_has_profile_pic', 0.05],\n",
       " ['host_identity_verified', 0.05],\n",
       " ['property_type', 0.03],\n",
       " ['beds', 0.03],\n",
       " ['id', 0.0],\n",
       " ['listing_url', 0.0],\n",
       " ['scrape_id', 0.0],\n",
       " ['last_scraped', 0.0],\n",
       " ['name', 0.0],\n",
       " ['description', 0.0],\n",
       " ['experiences_offered', 0.0],\n",
       " ['picture_url', 0.0],\n",
       " ['host_id', 0.0],\n",
       " ['host_url', 0.0],\n",
       " ['host_verifications', 0.0],\n",
       " ['street', 0.0],\n",
       " ['neighbourhood_cleansed', 0.0],\n",
       " ['neighbourhood_group_cleansed', 0.0],\n",
       " ['city', 0.0],\n",
       " ['state', 0.0],\n",
       " ['market', 0.0],\n",
       " ['smart_location', 0.0],\n",
       " ['country_code', 0.0],\n",
       " ['country', 0.0],\n",
       " ['latitude', 0.0],\n",
       " ['longitude', 0.0],\n",
       " ['is_location_exact', 0.0],\n",
       " ['room_type', 0.0],\n",
       " ['accommodates', 0.0],\n",
       " ['bed_type', 0.0],\n",
       " ['amenities', 0.0],\n",
       " ['price', 0.0],\n",
       " ['guests_included', 0.0],\n",
       " ['extra_people', 0.0],\n",
       " ['minimum_nights', 0.0],\n",
       " ['maximum_nights', 0.0],\n",
       " ['calendar_updated', 0.0],\n",
       " ['has_availability', 0.0],\n",
       " ['availability_30', 0.0],\n",
       " ['availability_60', 0.0],\n",
       " ['availability_90', 0.0],\n",
       " ['availability_365', 0.0],\n",
       " ['calendar_last_scraped', 0.0],\n",
       " ['number_of_reviews', 0.0],\n",
       " ['requires_license', 0.0],\n",
       " ['jurisdiction_names', 0.0],\n",
       " ['instant_bookable', 0.0],\n",
       " ['cancellation_policy', 0.0],\n",
       " ['require_guest_profile_picture', 0.0],\n",
       " ['require_guest_phone_verification', 0.0],\n",
       " ['calculated_host_listings_count', 0.0]]"
      ]
     },
     "execution_count": 8,
     "metadata": {},
     "output_type": "execute_result"
    }
   ],
   "source": [
    "# % of NaN values\n",
    "cols = []\n",
    "for col in dfSeattleListings.columns:\n",
    "    cols.append([col,round((len(dfSeattleListings[col])-dfSeattleListings[col].count())/len(dfSeattleListings[col])*100, 2)])\n",
    "cols = sorted(cols, key=lambda x:x[1], reverse=True)\n",
    "cols"
   ]
  },
  {
   "cell_type": "code",
   "execution_count": 9,
   "metadata": {},
   "outputs": [
    {
     "data": {
      "text/plain": [
       "Text(0.5, 0, 'Number of NA values')"
      ]
     },
     "execution_count": 9,
     "metadata": {},
     "output_type": "execute_result"
    },
    {
     "data": {
      "image/png": "[encoded data removed]",
      "text/plain": [
       "<Figure size 432x288 with 1 Axes>"
      ]
     },
     "metadata": {
      "needs_background": "light"
     },
     "output_type": "display_data"
    }
   ],
   "source": [
    "na_counts = dfSeattleListings.isna().sum().sort_values(ascending=False)\n",
    "base_color = sns.color_palette()[0]\n",
    "sns.barplot(na_counts[:20], na_counts[:20].index.values, color = base_color);\n",
    "plt.xlabel('Number of NA values')"
   ]
  },
  {
   "cell_type": "code",
   "execution_count": 10,
   "metadata": {
    "scrolled": true
   },
   "outputs": [
    {
     "name": "stdout",
     "output_type": "stream",
     "text": [
      "<class 'pandas.core.frame.DataFrame'>\n",
      "RangeIndex: 3818 entries, 0 to 3817\n",
      "Data columns (total 92 columns):\n",
      "id                                  3818 non-null int64\n",
      "listing_url                         3818 non-null object\n",
      "scrape_id                           3818 non-null int64\n",
      "last_scraped                        3818 non-null object\n",
      "name                                3818 non-null object\n",
      "summary                             3641 non-null object\n",
      "space                               3249 non-null object\n",
      "description                         3818 non-null object\n",
      "experiences_offered                 3818 non-null object\n",
      "neighborhood_overview               2786 non-null object\n",
      "notes                               2212 non-null object\n",
      "transit                             2884 non-null object\n",
      "thumbnail_url                       3498 non-null object\n",
      "medium_url                          3498 non-null object\n",
      "picture_url                         3818 non-null object\n",
      "xl_picture_url                      3498 non-null object\n",
      "host_id                             3818 non-null int64\n",
      "host_url                            3818 non-null object\n",
      "host_name                           3816 non-null object\n",
      "host_since                          3816 non-null object\n",
      "host_location                       3810 non-null object\n",
      "host_about                          2959 non-null object\n",
      "host_response_time                  3295 non-null object\n",
      "host_response_rate                  3295 non-null object\n",
      "host_acceptance_rate                3045 non-null object\n",
      "host_is_superhost                   3816 non-null object\n",
      "host_thumbnail_url                  3816 non-null object\n",
      "host_picture_url                    3816 non-null object\n",
      "host_neighbourhood                  3518 non-null object\n",
      "host_listings_count                 3816 non-null float64\n",
      "host_total_listings_count           3816 non-null float64\n",
      "host_verifications                  3818 non-null object\n",
      "host_has_profile_pic                3816 non-null object\n",
      "host_identity_verified              3816 non-null object\n",
      "street                              3818 non-null object\n",
      "neighbourhood                       3402 non-null object\n",
      "neighbourhood_cleansed              3818 non-null object\n",
      "neighbourhood_group_cleansed        3818 non-null object\n",
      "city                                3818 non-null object\n",
      "state                               3818 non-null object\n",
      "zipcode                             3811 non-null object\n",
      "market                              3818 non-null object\n",
      "smart_location                      3818 non-null object\n",
      "country_code                        3818 non-null object\n",
      "country                             3818 non-null object\n",
      "latitude                            3818 non-null float64\n",
      "longitude                           3818 non-null float64\n",
      "is_location_exact                   3818 non-null object\n",
      "property_type                       3817 non-null object\n",
      "room_type                           3818 non-null object\n",
      "accommodates                        3818 non-null int64\n",
      "bathrooms                           3802 non-null float64\n",
      "bedrooms                            3812 non-null float64\n",
      "beds                                3817 non-null float64\n",
      "bed_type                            3818 non-null object\n",
      "amenities                           3818 non-null object\n",
      "square_feet                         97 non-null float64\n",
      "price                               3818 non-null object\n",
      "weekly_price                        2009 non-null object\n",
      "monthly_price                       1517 non-null object\n",
      "security_deposit                    1866 non-null object\n",
      "cleaning_fee                        2788 non-null object\n",
      "guests_included                     3818 non-null int64\n",
      "extra_people                        3818 non-null object\n",
      "minimum_nights                      3818 non-null int64\n",
      "maximum_nights                      3818 non-null int64\n",
      "calendar_updated                    3818 non-null object\n",
      "has_availability                    3818 non-null object\n",
      "availability_30                     3818 non-null int64\n",
      "availability_60                     3818 non-null int64\n",
      "availability_90                     3818 non-null int64\n",
      "availability_365                    3818 non-null int64\n",
      "calendar_last_scraped               3818 non-null object\n",
      "number_of_reviews                   3818 non-null int64\n",
      "first_review                        3191 non-null object\n",
      "last_review                         3191 non-null object\n",
      "review_scores_rating                3171 non-null float64\n",
      "review_scores_accuracy              3160 non-null float64\n",
      "review_scores_cleanliness           3165 non-null float64\n",
      "review_scores_checkin               3160 non-null float64\n",
      "review_scores_communication         3167 non-null float64\n",
      "review_scores_location              3163 non-null float64\n",
      "review_scores_value                 3162 non-null float64\n",
      "requires_license                    3818 non-null object\n",
      "license                             0 non-null float64\n",
      "jurisdiction_names                  3818 non-null object\n",
      "instant_bookable                    3818 non-null object\n",
      "cancellation_policy                 3818 non-null object\n",
      "require_guest_profile_picture       3818 non-null object\n",
      "require_guest_phone_verification    3818 non-null object\n",
      "calculated_host_listings_count      3818 non-null int64\n",
      "reviews_per_month                   3191 non-null float64\n",
      "dtypes: float64(17), int64(13), object(62)\n",
      "memory usage: 2.7+ MB\n"
     ]
    }
   ],
   "source": [
    "dfSeattleListings.info()"
   ]
  },
  {
   "cell_type": "markdown",
   "metadata": {},
   "source": [
    "focussing on the most interesting seeming columns (\"square_feet\" would be interesting too but we'll drop this due to lots of missing values)"
   ]
  },
  {
   "cell_type": "code",
   "execution_count": 11,
   "metadata": {},
   "outputs": [
    {
     "data": {
      "text/html": [
       "<div>\n",
       "<style scoped>\n",
       "    .dataframe tbody tr th:only-of-type {\n",
       "        vertical-align: middle;\n",
       "    }\n",
       "\n",
       "    .dataframe tbody tr th {\n",
       "        vertical-align: top;\n",
       "    }\n",
       "\n",
       "    .dataframe thead th {\n",
       "        text-align: right;\n",
       "    }\n",
       "</style>\n",
       "<table border=\"1\" class=\"dataframe\">\n",
       "  <thead>\n",
       "    <tr style=\"text-align: right;\">\n",
       "      <th></th>\n",
       "      <th>experiences_offered</th>\n",
       "      <th>host_response_time</th>\n",
       "      <th>host_response_rate</th>\n",
       "      <th>host_acceptance_rate</th>\n",
       "      <th>host_is_superhost</th>\n",
       "      <th>host_listings_count</th>\n",
       "      <th>host_total_listings_count</th>\n",
       "      <th>host_has_profile_pic</th>\n",
       "      <th>host_identity_verified</th>\n",
       "      <th>zipcode</th>\n",
       "      <th>...</th>\n",
       "      <th>room_type</th>\n",
       "      <th>accommodates</th>\n",
       "      <th>bathrooms</th>\n",
       "      <th>bedrooms</th>\n",
       "      <th>beds</th>\n",
       "      <th>amenities</th>\n",
       "      <th>price</th>\n",
       "      <th>number_of_reviews</th>\n",
       "      <th>review_scores_rating</th>\n",
       "      <th>reviews_per_month</th>\n",
       "    </tr>\n",
       "  </thead>\n",
       "  <tbody>\n",
       "    <tr>\n",
       "      <td>3813</td>\n",
       "      <td>none</td>\n",
       "      <td>within a few hours</td>\n",
       "      <td>99%</td>\n",
       "      <td>100%</td>\n",
       "      <td>f</td>\n",
       "      <td>354.0</td>\n",
       "      <td>354.0</td>\n",
       "      <td>t</td>\n",
       "      <td>t</td>\n",
       "      <td>98107</td>\n",
       "      <td>...</td>\n",
       "      <td>Entire home/apt</td>\n",
       "      <td>6</td>\n",
       "      <td>2.0</td>\n",
       "      <td>3.0</td>\n",
       "      <td>3.0</td>\n",
       "      <td>{TV,\"Cable TV\",Internet,\"Wireless Internet\",\"A...</td>\n",
       "      <td>$359.00</td>\n",
       "      <td>1</td>\n",
       "      <td>80.0</td>\n",
       "      <td>0.3</td>\n",
       "    </tr>\n",
       "    <tr>\n",
       "      <td>3814</td>\n",
       "      <td>none</td>\n",
       "      <td>within an hour</td>\n",
       "      <td>100%</td>\n",
       "      <td>100%</td>\n",
       "      <td>f</td>\n",
       "      <td>1.0</td>\n",
       "      <td>1.0</td>\n",
       "      <td>t</td>\n",
       "      <td>t</td>\n",
       "      <td>98102</td>\n",
       "      <td>...</td>\n",
       "      <td>Entire home/apt</td>\n",
       "      <td>4</td>\n",
       "      <td>1.0</td>\n",
       "      <td>1.0</td>\n",
       "      <td>2.0</td>\n",
       "      <td>{TV,\"Cable TV\",Internet,\"Wireless Internet\",Ki...</td>\n",
       "      <td>$79.00</td>\n",
       "      <td>2</td>\n",
       "      <td>100.0</td>\n",
       "      <td>2.0</td>\n",
       "    </tr>\n",
       "    <tr>\n",
       "      <td>3815</td>\n",
       "      <td>none</td>\n",
       "      <td>NaN</td>\n",
       "      <td>NaN</td>\n",
       "      <td>NaN</td>\n",
       "      <td>f</td>\n",
       "      <td>1.0</td>\n",
       "      <td>1.0</td>\n",
       "      <td>t</td>\n",
       "      <td>f</td>\n",
       "      <td>98178</td>\n",
       "      <td>...</td>\n",
       "      <td>Entire home/apt</td>\n",
       "      <td>2</td>\n",
       "      <td>1.0</td>\n",
       "      <td>1.0</td>\n",
       "      <td>1.0</td>\n",
       "      <td>{\"Cable TV\",\"Wireless Internet\",Kitchen,\"Free ...</td>\n",
       "      <td>$93.00</td>\n",
       "      <td>0</td>\n",
       "      <td>NaN</td>\n",
       "      <td>NaN</td>\n",
       "    </tr>\n",
       "    <tr>\n",
       "      <td>3816</td>\n",
       "      <td>none</td>\n",
       "      <td>within an hour</td>\n",
       "      <td>100%</td>\n",
       "      <td>NaN</td>\n",
       "      <td>f</td>\n",
       "      <td>1.0</td>\n",
       "      <td>1.0</td>\n",
       "      <td>t</td>\n",
       "      <td>t</td>\n",
       "      <td>98112</td>\n",
       "      <td>...</td>\n",
       "      <td>Entire home/apt</td>\n",
       "      <td>2</td>\n",
       "      <td>1.0</td>\n",
       "      <td>0.0</td>\n",
       "      <td>1.0</td>\n",
       "      <td>{TV,\"Wireless Internet\",Kitchen,\"Free Parking ...</td>\n",
       "      <td>$99.00</td>\n",
       "      <td>0</td>\n",
       "      <td>NaN</td>\n",
       "      <td>NaN</td>\n",
       "    </tr>\n",
       "    <tr>\n",
       "      <td>3817</td>\n",
       "      <td>none</td>\n",
       "      <td>within a day</td>\n",
       "      <td>100%</td>\n",
       "      <td>NaN</td>\n",
       "      <td>f</td>\n",
       "      <td>1.0</td>\n",
       "      <td>1.0</td>\n",
       "      <td>t</td>\n",
       "      <td>t</td>\n",
       "      <td>98109</td>\n",
       "      <td>...</td>\n",
       "      <td>Entire home/apt</td>\n",
       "      <td>3</td>\n",
       "      <td>1.5</td>\n",
       "      <td>2.0</td>\n",
       "      <td>1.0</td>\n",
       "      <td>{TV,\"Cable TV\",Internet,\"Wireless Internet\",Ki...</td>\n",
       "      <td>$87.00</td>\n",
       "      <td>0</td>\n",
       "      <td>NaN</td>\n",
       "      <td>NaN</td>\n",
       "    </tr>\n",
       "  </tbody>\n",
       "</table>\n",
       "<p>5 rows × 21 columns</p>\n",
       "</div>"
      ],
      "text/plain": [
       "     experiences_offered  host_response_time host_response_rate  \\\n",
       "3813                none  within a few hours                99%   \n",
       "3814                none      within an hour               100%   \n",
       "3815                none                 NaN                NaN   \n",
       "3816                none      within an hour               100%   \n",
       "3817                none        within a day               100%   \n",
       "\n",
       "     host_acceptance_rate host_is_superhost  host_listings_count  \\\n",
       "3813                 100%                 f                354.0   \n",
       "3814                 100%                 f                  1.0   \n",
       "3815                  NaN                 f                  1.0   \n",
       "3816                  NaN                 f                  1.0   \n",
       "3817                  NaN                 f                  1.0   \n",
       "\n",
       "      host_total_listings_count host_has_profile_pic host_identity_verified  \\\n",
       "3813                      354.0                    t                      t   \n",
       "3814                        1.0                    t                      t   \n",
       "3815                        1.0                    t                      f   \n",
       "3816                        1.0                    t                      t   \n",
       "3817                        1.0                    t                      t   \n",
       "\n",
       "     zipcode  ...        room_type accommodates  bathrooms  bedrooms  beds  \\\n",
       "3813   98107  ...  Entire home/apt            6        2.0       3.0   3.0   \n",
       "3814   98102  ...  Entire home/apt            4        1.0       1.0   2.0   \n",
       "3815   98178  ...  Entire home/apt            2        1.0       1.0   1.0   \n",
       "3816   98112  ...  Entire home/apt            2        1.0       0.0   1.0   \n",
       "3817   98109  ...  Entire home/apt            3        1.5       2.0   1.0   \n",
       "\n",
       "                                              amenities    price  \\\n",
       "3813  {TV,\"Cable TV\",Internet,\"Wireless Internet\",\"A...  $359.00   \n",
       "3814  {TV,\"Cable TV\",Internet,\"Wireless Internet\",Ki...   $79.00   \n",
       "3815  {\"Cable TV\",\"Wireless Internet\",Kitchen,\"Free ...   $93.00   \n",
       "3816  {TV,\"Wireless Internet\",Kitchen,\"Free Parking ...   $99.00   \n",
       "3817  {TV,\"Cable TV\",Internet,\"Wireless Internet\",Ki...   $87.00   \n",
       "\n",
       "     number_of_reviews  review_scores_rating  reviews_per_month  \n",
       "3813                 1                  80.0                0.3  \n",
       "3814                 2                 100.0                2.0  \n",
       "3815                 0                   NaN                NaN  \n",
       "3816                 0                   NaN                NaN  \n",
       "3817                 0                   NaN                NaN  \n",
       "\n",
       "[5 rows x 21 columns]"
      ]
     },
     "execution_count": 11,
     "metadata": {},
     "output_type": "execute_result"
    }
   ],
   "source": [
    "cols=['experiences_offered', 'host_response_time', 'host_response_rate', \n",
    "      'host_acceptance_rate', 'host_is_superhost', 'host_listings_count', 'host_total_listings_count',\n",
    "      'host_has_profile_pic', 'host_identity_verified', 'zipcode', 'property_type', 'room_type', \n",
    "      'accommodates', 'bathrooms', 'bedrooms', 'beds', 'amenities', 'price', 'number_of_reviews',\n",
    "     'review_scores_rating', 'reviews_per_month']\n",
    "df = dfSeattleListings[cols]\n",
    "df.tail(5)"
   ]
  },
  {
   "cell_type": "markdown",
   "metadata": {},
   "source": [
    "## Cleaning data"
   ]
  },
  {
   "cell_type": "markdown",
   "metadata": {},
   "source": [
    "First I am going to convert the non-categorical string columns to numeric columns and also convert the string-formatted Boolean columns to numerically formatted columns."
   ]
  },
  {
   "cell_type": "code",
   "execution_count": 12,
   "metadata": {},
   "outputs": [],
   "source": [
    "pd.options.mode.chained_assignment = None  # default='warn'\n",
    "df['host_response_rate'] = df['host_response_rate'].astype(str)\n",
    "df['host_response_rate'] = df['host_response_rate'].str.replace(\"%\", \"\").astype(\"float\")\n",
    "\n",
    "df['host_acceptance_rate'] = df['host_acceptance_rate'].astype(str)\n",
    "df['host_acceptance_rate'] = df['host_acceptance_rate'].str.replace(\"%\", \"\").astype(\"float\")\n",
    "\n",
    "df['price'] = df['price'].astype(str)\n",
    "df['price'] = df['price'].str.replace(\"[$, ]\", \"\").astype(\"float\")\n",
    "\n",
    "df['host_is_superhost']=np.where(df['host_is_superhost']=='t',1,0)\n",
    "df['host_has_profile_pic']=np.where(df['host_has_profile_pic']=='t',1,0)\n",
    "df['host_identity_verified']=np.where(df['host_identity_verified']=='t',1,0)"
   ]
  },
  {
   "cell_type": "code",
   "execution_count": 13,
   "metadata": {
    "scrolled": true
   },
   "outputs": [
    {
     "name": "stdout",
     "output_type": "stream",
     "text": [
      "none    3818\n",
      "Name: experiences_offered, dtype: int64\n"
     ]
    }
   ],
   "source": [
    "print(df['experiences_offered'].value_counts())\n",
    "#dropping \"experiences_offered\" since it only contains 1 value\n",
    "df = df.drop(['experiences_offered'], axis=1)"
   ]
  },
  {
   "cell_type": "code",
   "execution_count": 14,
   "metadata": {},
   "outputs": [],
   "source": [
    "#df = df.dropna(subset=['price'])   #Drop only if NaN in specific column"
   ]
  },
  {
   "cell_type": "code",
   "execution_count": 15,
   "metadata": {
    "scrolled": true
   },
   "outputs": [
    {
     "name": "stdout",
     "output_type": "stream",
     "text": [
      "<class 'pandas.core.frame.DataFrame'>\n",
      "RangeIndex: 3818 entries, 0 to 3817\n",
      "Data columns (total 20 columns):\n",
      "host_response_time           3295 non-null object\n",
      "host_response_rate           3295 non-null float64\n",
      "host_acceptance_rate         3045 non-null float64\n",
      "host_is_superhost            3818 non-null int32\n",
      "host_listings_count          3816 non-null float64\n",
      "host_total_listings_count    3816 non-null float64\n",
      "host_has_profile_pic         3818 non-null int32\n",
      "host_identity_verified       3818 non-null int32\n",
      "zipcode                      3811 non-null object\n",
      "property_type                3817 non-null object\n",
      "room_type                    3818 non-null object\n",
      "accommodates                 3818 non-null int64\n",
      "bathrooms                    3802 non-null float64\n",
      "bedrooms                     3812 non-null float64\n",
      "beds                         3817 non-null float64\n",
      "amenities                    3818 non-null object\n",
      "price                        3818 non-null float64\n",
      "number_of_reviews            3818 non-null int64\n",
      "review_scores_rating         3171 non-null float64\n",
      "reviews_per_month            3191 non-null float64\n",
      "dtypes: float64(10), int32(3), int64(2), object(5)\n",
      "memory usage: 551.9+ KB\n"
     ]
    }
   ],
   "source": [
    "df.info()"
   ]
  },
  {
   "cell_type": "code",
   "execution_count": 16,
   "metadata": {},
   "outputs": [
    {
     "name": "stdout",
     "output_type": "stream",
     "text": [
      "{}                                                                                                                                                                                                                                                                                                      45\n",
      "{Internet,\"Wireless Internet\",Kitchen,\"Free Parking on Premises\",Heating,Washer,Dryer}                                                                                                                                                                                                                  11\n",
      "{TV,\"Cable TV\",Internet,\"Wireless Internet\",Pool,Kitchen,\"Free Parking on Premises\",Gym,\"Elevator in Building\",\"Hot Tub\",Heating,\"Family/Kid Friendly\",Washer,Dryer,\"Smoke Detector\",\"Carbon Monoxide Detector\",\"Fire Extinguisher\",Essentials,Shampoo,\"24-Hour Check-in\",Hangers,\"Hair Dryer\",Iron}    10\n",
      "{TV,\"Cable TV\",Internet,\"Wireless Internet\",Kitchen,\"Buzzer/Wireless Intercom\",Heating,Washer,Dryer,Essentials,\"24-Hour Check-in\",Hangers,\"Hair Dryer\",Iron,\"Laptop Friendly Workspace\"}                                                                                                                 8\n",
      "{Internet,\"Wireless Internet\",Kitchen,Heating,\"Suitable for Events\",Washer,Dryer,\"Smoke Detector\",\"Carbon Monoxide Detector\",\"First Aid Kit\",\"Fire Extinguisher\",Essentials}                                                                                                                             7\n",
      "                                                                                                                                                                                                                                                                                                        ..\n",
      "{TV,Internet,\"Wireless Internet\",Kitchen,\"Free Parking on Premises\",Heating,Washer,Dryer,\"Smoke Detector\",\"Fire Extinguisher\",Essentials}                                                                                                                                                                1\n",
      "{Internet,\"Wireless Internet\",Kitchen,\"Free Parking on Premises\",\"Pets Allowed\",Heating,\"Family/Kid Friendly\",\"Smoke Detector\",\"Carbon Monoxide Detector\",\"First Aid Kit\",\"Fire Extinguisher\",Essentials,Shampoo}                                                                                        1\n",
      "{TV,\"Cable TV\",Internet,\"Wireless Internet\",Kitchen,\"Free Parking on Premises\",\"Pets live on this property\",Cat(s),\"Other pet(s)\",\"Indoor Fireplace\",Heating,\"Family/Kid Friendly\",Washer,Dryer,\"Smoke Detector\",\"First Aid Kit\",Essentials}                                                             1\n",
      "{TV,Internet,\"Wireless Internet\",\"Air Conditioning\",Kitchen,\"Elevator in Building\",Heating,\"Family/Kid Friendly\",Washer,Dryer,\"Smoke Detector\",\"Carbon Monoxide Detector\",\"Safety Card\",\"Fire Extinguisher\"}                                                                                             1\n",
      "{TV,Internet,\"Wireless Internet\",Kitchen,\"Free Parking on Premises\",Heating,\"Smoke Detector\",\"Carbon Monoxide Detector\",\"First Aid Kit\",\"Fire Extinguisher\",Essentials,Hangers,\"Hair Dryer\",Iron,\"Laptop Friendly Workspace\"}                                                                            1\n",
      "Name: amenities, Length: 3284, dtype: int64\n"
     ]
    }
   ],
   "source": [
    "print(df['amenities'].value_counts())"
   ]
  },
  {
   "cell_type": "markdown",
   "metadata": {},
   "source": [
    "Let's try to clean the amenities column and to convert it to something useful. I am interested if th amount of amenities has an effect on the price.\n"
   ]
  },
  {
   "cell_type": "code",
   "execution_count": 35,
   "metadata": {},
   "outputs": [],
   "source": [
    "df['amenities_len'] = df['amenities'].apply(lambda x: len(convertAmenities(x)))\n",
    "df = df.drop(['amenities'], axis=1)"
   ]
  },
  {
   "cell_type": "code",
   "execution_count": 36,
   "metadata": {},
   "outputs": [
    {
     "data": {
      "text/plain": [
       "Text(0, 0.5, 'Count')"
      ]
     },
     "execution_count": 36,
     "metadata": {},
     "output_type": "execute_result"
    },
    {
     "data": {
      "image/png": "[encoded data removed]",
      "text/plain": [
       "<Figure size 432x288 with 1 Axes>"
      ]
     },
     "metadata": {},
     "output_type": "display_data"
    }
   ],
   "source": [
    "plt.hist(df['amenities_len'], 30)\n",
    "plt.title('Histogram of Amenities')\n",
    "plt.xlabel('Number of Amenities offered')\n",
    "plt.ylabel('Count')"
   ]
  },
  {
   "cell_type": "code",
   "execution_count": null,
   "metadata": {},
   "outputs": [],
   "source": []
  },
  {
   "cell_type": "code",
   "execution_count": 19,
   "metadata": {},
   "outputs": [
    {
     "data": {
      "image/png": "[encoded data removed]",
      "text/plain": [
       "<Figure size 432x288 with 1 Axes>"
      ]
     },
     "metadata": {
      "needs_background": "light"
     },
     "output_type": "display_data"
    }
   ],
   "source": [
    "responseTimeClasses = ['within an hour', 'within a few hours', 'within a day', 'a few days or more']\n",
    "vclasses = pd.api.types.CategoricalDtype(ordered = True, categories = responseTimeClasses)\n",
    "df['host_response_time'] = df['host_response_time'].astype(vclasses)\n",
    "makeCountplot(df, 'host_response_time', 'Host Response Time', 15)"
   ]
  },
  {
   "cell_type": "markdown",
   "metadata": {},
   "source": [
    "Most Airbnb Hosts answer requests very quickly, almost half of them answer within an hour."
   ]
  },
  {
   "cell_type": "markdown",
   "metadata": {},
   "source": [
    "I wonder if superhosts answer even faster than normal hosts."
   ]
  },
  {
   "cell_type": "code",
   "execution_count": 20,
   "metadata": {},
   "outputs": [
    {
     "data": {
      "text/plain": [
       "Text(0.5, 0, 'Host response Time')"
      ]
     },
     "execution_count": 20,
     "metadata": {},
     "output_type": "execute_result"
    },
    {
     "data": {
      "image/png": "[encoded data removed]",
      "text/plain": [
       "<Figure size 432x288 with 1 Axes>"
      ]
     },
     "metadata": {
      "needs_background": "light"
     },
     "output_type": "display_data"
    }
   ],
   "source": [
    "x, y, hue = \"host_response_time\", \"Proportion\", \"host_is_superhost\"\n",
    "\n",
    "prop_df = (df[x]\n",
    "           .groupby(df[hue])\n",
    "           .value_counts(normalize=True)\n",
    "           .rename(y)\n",
    "           .reset_index())\n",
    "\n",
    "sns.barplot(x=x, y=y, hue=hue, data=prop_df)\n",
    "plt.xticks(rotation=15)\n",
    "plt.xlabel('Host response Time')"
   ]
  },
  {
   "cell_type": "code",
   "execution_count": 21,
   "metadata": {},
   "outputs": [
    {
     "data": {
      "image/png": "[encoded data removed]",
      "text/plain": [
       "<Figure size 432x288 with 1 Axes>"
      ]
     },
     "metadata": {
      "needs_background": "light"
     },
     "output_type": "display_data"
    }
   ],
   "source": [
    "makeCountplot(df, 'property_type', 'Property type', 90)"
   ]
  },
  {
   "cell_type": "code",
   "execution_count": 22,
   "metadata": {},
   "outputs": [
    {
     "data": {
      "image/png": "[encoded data removed]",
      "text/plain": [
       "<Figure size 432x288 with 1 Axes>"
      ]
     },
     "metadata": {
      "needs_background": "light"
     },
     "output_type": "display_data"
    }
   ],
   "source": [
    "makeCountplot(df, 'room_type', 'Room type', 15)"
   ]
  },
  {
   "cell_type": "code",
   "execution_count": 23,
   "metadata": {},
   "outputs": [
    {
     "data": {
      "image/png": "[encoded data removed]",
      "text/plain": [
       "<Figure size 432x288 with 1 Axes>"
      ]
     },
     "metadata": {
      "needs_background": "light"
     },
     "output_type": "display_data"
    }
   ],
   "source": [
    "plt.scatter(x=df[\"number_of_reviews\"], y=df[\"price\"]);"
   ]
  },
  {
   "cell_type": "code",
   "execution_count": 24,
   "metadata": {
    "scrolled": true
   },
   "outputs": [
    {
     "data": {
      "text/plain": [
       "Text(0, 0.5, 'Price in $')"
      ]
     },
     "execution_count": 24,
     "metadata": {},
     "output_type": "execute_result"
    },
    {
     "data": {
      "image/png": "[encoded data removed]",
      "text/plain": [
       "<Figure size 432x288 with 1 Axes>"
      ]
     },
     "metadata": {
      "needs_background": "light"
     },
     "output_type": "display_data"
    }
   ],
   "source": [
    "base_color = sns.color_palette()[0]\n",
    "sns.violinplot(data = df, x = 'bedrooms', y = 'price', color = base_color,\n",
    "              inner = None)\n",
    "plt.xlabel('Nr. of Bedrooms')\n",
    "plt.ylabel('Price in $')"
   ]
  },
  {
   "cell_type": "markdown",
   "metadata": {},
   "source": [
    "There seems to be a linear relationship between the number of bedrooms and the price which comes at no surprise."
   ]
  },
  {
   "cell_type": "code",
   "execution_count": 25,
   "metadata": {},
   "outputs": [
    {
     "data": {
      "text/plain": [
       "Text(0, 0.5, 'Price in $')"
      ]
     },
     "execution_count": 25,
     "metadata": {},
     "output_type": "execute_result"
    },
    {
     "data": {
      "image/png": "[encoded data removed]",
      "text/plain": [
       "<Figure size 432x288 with 1 Axes>"
      ]
     },
     "metadata": {
      "needs_background": "light"
     },
     "output_type": "display_data"
    }
   ],
   "source": [
    "base_color = sns.color_palette()[0]\n",
    "sns.violinplot(data = df, x = 'bathrooms', y = 'price', color = base_color,\n",
    "              inner = None)\n",
    "plt.xlabel('Nr. of Bathrooms')\n",
    "plt.ylabel('Price in $')"
   ]
  },
  {
   "cell_type": "code",
   "execution_count": 26,
   "metadata": {},
   "outputs": [
    {
     "data": {
      "image/png": "[encoded data removed]",
      "text/plain": [
       "<Figure size 432x288 with 1 Axes>"
      ]
     },
     "metadata": {
      "needs_background": "light"
     },
     "output_type": "display_data"
    }
   ],
   "source": [
    "plt.scatter(x=df[\"reviews_per_month\"], y=df[\"price\"]);"
   ]
  },
  {
   "cell_type": "code",
   "execution_count": 27,
   "metadata": {},
   "outputs": [
    {
     "data": {
      "text/plain": [
       "(array([105., 411., 548., 627., 553., 380., 349., 183., 105., 130.,  72.,\n",
       "         99.,  18.,  34.,  49.,  17.,  39.,   5.,  11.,  21.,   5.,  15.,\n",
       "          2.,   4.,   9.,   1.,   1.,   6.,   1.,   4.,   0.,   0.,   0.,\n",
       "          2.,   3.,   0.,   0.,   3.,   1.,   0.,   0.,   0.,   0.,   0.,\n",
       "          1.,   0.,   0.,   1.,   1.,   2.]),\n",
       " array([  20. ,   39.6,   59.2,   78.8,   98.4,  118. ,  137.6,  157.2,\n",
       "         176.8,  196.4,  216. ,  235.6,  255.2,  274.8,  294.4,  314. ,\n",
       "         333.6,  353.2,  372.8,  392.4,  412. ,  431.6,  451.2,  470.8,\n",
       "         490.4,  510. ,  529.6,  549.2,  568.8,  588.4,  608. ,  627.6,\n",
       "         647.2,  666.8,  686.4,  706. ,  725.6,  745.2,  764.8,  784.4,\n",
       "         804. ,  823.6,  843.2,  862.8,  882.4,  902. ,  921.6,  941.2,\n",
       "         960.8,  980.4, 1000. ]),\n",
       " <a list of 50 Patch objects>)"
      ]
     },
     "execution_count": 27,
     "metadata": {},
     "output_type": "execute_result"
    },
    {
     "data": {
      "image/png": "[encoded data removed]",
      "text/plain": [
       "<Figure size 432x288 with 1 Axes>"
      ]
     },
     "metadata": {
      "needs_background": "light"
     },
     "output_type": "display_data"
    }
   ],
   "source": [
    "plt.hist(df[\"price\"], 50)"
   ]
  },
  {
   "cell_type": "code",
   "execution_count": 28,
   "metadata": {},
   "outputs": [
    {
     "data": {
      "text/plain": [
       "Index(['host_response_rate', 'host_acceptance_rate', 'host_is_superhost',\n",
       "       'host_listings_count', 'host_total_listings_count',\n",
       "       'host_has_profile_pic', 'host_identity_verified', 'accommodates',\n",
       "       'bathrooms', 'bedrooms', 'beds', 'price', 'number_of_reviews',\n",
       "       'review_scores_rating', 'reviews_per_month', 'amenities_len'],\n",
       "      dtype='object')"
      ]
     },
     "execution_count": 28,
     "metadata": {},
     "output_type": "execute_result"
    }
   ],
   "source": [
    "df_num = df.select_dtypes(include=['number'])\n",
    "df_num.columns"
   ]
  },
  {
   "cell_type": "code",
   "execution_count": 29,
   "metadata": {},
   "outputs": [
    {
     "data": {
      "text/html": [
       "<div>\n",
       "<style scoped>\n",
       "    .dataframe tbody tr th:only-of-type {\n",
       "        vertical-align: middle;\n",
       "    }\n",
       "\n",
       "    .dataframe tbody tr th {\n",
       "        vertical-align: top;\n",
       "    }\n",
       "\n",
       "    .dataframe thead th {\n",
       "        text-align: right;\n",
       "    }\n",
       "</style>\n",
       "<table border=\"1\" class=\"dataframe\">\n",
       "  <thead>\n",
       "    <tr style=\"text-align: right;\">\n",
       "      <th></th>\n",
       "      <th>host_response_rate</th>\n",
       "      <th>host_acceptance_rate</th>\n",
       "      <th>host_is_superhost</th>\n",
       "      <th>host_listings_count</th>\n",
       "      <th>host_total_listings_count</th>\n",
       "      <th>host_has_profile_pic</th>\n",
       "      <th>host_identity_verified</th>\n",
       "      <th>accommodates</th>\n",
       "      <th>bathrooms</th>\n",
       "      <th>bedrooms</th>\n",
       "      <th>beds</th>\n",
       "      <th>price</th>\n",
       "      <th>number_of_reviews</th>\n",
       "      <th>review_scores_rating</th>\n",
       "      <th>reviews_per_month</th>\n",
       "      <th>amenities_len</th>\n",
       "    </tr>\n",
       "  </thead>\n",
       "  <tbody>\n",
       "    <tr>\n",
       "      <td>count</td>\n",
       "      <td>3295.000000</td>\n",
       "      <td>3045.000000</td>\n",
       "      <td>3818.000000</td>\n",
       "      <td>3816.000000</td>\n",
       "      <td>3816.000000</td>\n",
       "      <td>3818.000000</td>\n",
       "      <td>3818.000000</td>\n",
       "      <td>3818.000000</td>\n",
       "      <td>3802.000000</td>\n",
       "      <td>3812.000000</td>\n",
       "      <td>3817.000000</td>\n",
       "      <td>3818.000000</td>\n",
       "      <td>3818.000000</td>\n",
       "      <td>3171.000000</td>\n",
       "      <td>3191.000000</td>\n",
       "      <td>3818.000000</td>\n",
       "    </tr>\n",
       "    <tr>\n",
       "      <td>mean</td>\n",
       "      <td>94.886798</td>\n",
       "      <td>99.967159</td>\n",
       "      <td>0.203772</td>\n",
       "      <td>7.157757</td>\n",
       "      <td>7.157757</td>\n",
       "      <td>0.997643</td>\n",
       "      <td>0.784966</td>\n",
       "      <td>3.349398</td>\n",
       "      <td>1.259469</td>\n",
       "      <td>1.307712</td>\n",
       "      <td>1.735394</td>\n",
       "      <td>127.976166</td>\n",
       "      <td>22.223415</td>\n",
       "      <td>94.539262</td>\n",
       "      <td>2.078919</td>\n",
       "      <td>14.358827</td>\n",
       "    </tr>\n",
       "    <tr>\n",
       "      <td>std</td>\n",
       "      <td>11.866705</td>\n",
       "      <td>1.812201</td>\n",
       "      <td>0.402854</td>\n",
       "      <td>28.628149</td>\n",
       "      <td>28.628149</td>\n",
       "      <td>0.048501</td>\n",
       "      <td>0.410900</td>\n",
       "      <td>1.977599</td>\n",
       "      <td>0.590369</td>\n",
       "      <td>0.883395</td>\n",
       "      <td>1.139480</td>\n",
       "      <td>90.250022</td>\n",
       "      <td>37.730892</td>\n",
       "      <td>6.606083</td>\n",
       "      <td>1.822348</td>\n",
       "      <td>4.741425</td>\n",
       "    </tr>\n",
       "    <tr>\n",
       "      <td>min</td>\n",
       "      <td>17.000000</td>\n",
       "      <td>0.000000</td>\n",
       "      <td>0.000000</td>\n",
       "      <td>1.000000</td>\n",
       "      <td>1.000000</td>\n",
       "      <td>0.000000</td>\n",
       "      <td>0.000000</td>\n",
       "      <td>1.000000</td>\n",
       "      <td>0.000000</td>\n",
       "      <td>0.000000</td>\n",
       "      <td>1.000000</td>\n",
       "      <td>20.000000</td>\n",
       "      <td>0.000000</td>\n",
       "      <td>20.000000</td>\n",
       "      <td>0.020000</td>\n",
       "      <td>0.000000</td>\n",
       "    </tr>\n",
       "    <tr>\n",
       "      <td>25%</td>\n",
       "      <td>98.000000</td>\n",
       "      <td>100.000000</td>\n",
       "      <td>0.000000</td>\n",
       "      <td>1.000000</td>\n",
       "      <td>1.000000</td>\n",
       "      <td>1.000000</td>\n",
       "      <td>1.000000</td>\n",
       "      <td>2.000000</td>\n",
       "      <td>1.000000</td>\n",
       "      <td>1.000000</td>\n",
       "      <td>1.000000</td>\n",
       "      <td>75.000000</td>\n",
       "      <td>2.000000</td>\n",
       "      <td>93.000000</td>\n",
       "      <td>0.695000</td>\n",
       "      <td>11.000000</td>\n",
       "    </tr>\n",
       "    <tr>\n",
       "      <td>50%</td>\n",
       "      <td>100.000000</td>\n",
       "      <td>100.000000</td>\n",
       "      <td>0.000000</td>\n",
       "      <td>1.000000</td>\n",
       "      <td>1.000000</td>\n",
       "      <td>1.000000</td>\n",
       "      <td>1.000000</td>\n",
       "      <td>3.000000</td>\n",
       "      <td>1.000000</td>\n",
       "      <td>1.000000</td>\n",
       "      <td>1.000000</td>\n",
       "      <td>100.000000</td>\n",
       "      <td>9.000000</td>\n",
       "      <td>96.000000</td>\n",
       "      <td>1.540000</td>\n",
       "      <td>14.000000</td>\n",
       "    </tr>\n",
       "    <tr>\n",
       "      <td>75%</td>\n",
       "      <td>100.000000</td>\n",
       "      <td>100.000000</td>\n",
       "      <td>0.000000</td>\n",
       "      <td>3.000000</td>\n",
       "      <td>3.000000</td>\n",
       "      <td>1.000000</td>\n",
       "      <td>1.000000</td>\n",
       "      <td>4.000000</td>\n",
       "      <td>1.000000</td>\n",
       "      <td>2.000000</td>\n",
       "      <td>2.000000</td>\n",
       "      <td>150.000000</td>\n",
       "      <td>26.000000</td>\n",
       "      <td>99.000000</td>\n",
       "      <td>3.000000</td>\n",
       "      <td>17.000000</td>\n",
       "    </tr>\n",
       "    <tr>\n",
       "      <td>max</td>\n",
       "      <td>100.000000</td>\n",
       "      <td>100.000000</td>\n",
       "      <td>1.000000</td>\n",
       "      <td>502.000000</td>\n",
       "      <td>502.000000</td>\n",
       "      <td>1.000000</td>\n",
       "      <td>1.000000</td>\n",
       "      <td>16.000000</td>\n",
       "      <td>8.000000</td>\n",
       "      <td>7.000000</td>\n",
       "      <td>15.000000</td>\n",
       "      <td>1000.000000</td>\n",
       "      <td>474.000000</td>\n",
       "      <td>100.000000</td>\n",
       "      <td>12.150000</td>\n",
       "      <td>30.000000</td>\n",
       "    </tr>\n",
       "  </tbody>\n",
       "</table>\n",
       "</div>"
      ],
      "text/plain": [
       "       host_response_rate  host_acceptance_rate  host_is_superhost  \\\n",
       "count         3295.000000           3045.000000        3818.000000   \n",
       "mean            94.886798             99.967159           0.203772   \n",
       "std             11.866705              1.812201           0.402854   \n",
       "min             17.000000              0.000000           0.000000   \n",
       "25%             98.000000            100.000000           0.000000   \n",
       "50%            100.000000            100.000000           0.000000   \n",
       "75%            100.000000            100.000000           0.000000   \n",
       "max            100.000000            100.000000           1.000000   \n",
       "\n",
       "       host_listings_count  host_total_listings_count  host_has_profile_pic  \\\n",
       "count          3816.000000                3816.000000           3818.000000   \n",
       "mean              7.157757                   7.157757              0.997643   \n",
       "std              28.628149                  28.628149              0.048501   \n",
       "min               1.000000                   1.000000              0.000000   \n",
       "25%               1.000000                   1.000000              1.000000   \n",
       "50%               1.000000                   1.000000              1.000000   \n",
       "75%               3.000000                   3.000000              1.000000   \n",
       "max             502.000000                 502.000000              1.000000   \n",
       "\n",
       "       host_identity_verified  accommodates    bathrooms     bedrooms  \\\n",
       "count             3818.000000   3818.000000  3802.000000  3812.000000   \n",
       "mean                 0.784966      3.349398     1.259469     1.307712   \n",
       "std                  0.410900      1.977599     0.590369     0.883395   \n",
       "min                  0.000000      1.000000     0.000000     0.000000   \n",
       "25%                  1.000000      2.000000     1.000000     1.000000   \n",
       "50%                  1.000000      3.000000     1.000000     1.000000   \n",
       "75%                  1.000000      4.000000     1.000000     2.000000   \n",
       "max                  1.000000     16.000000     8.000000     7.000000   \n",
       "\n",
       "              beds        price  number_of_reviews  review_scores_rating  \\\n",
       "count  3817.000000  3818.000000        3818.000000           3171.000000   \n",
       "mean      1.735394   127.976166          22.223415             94.539262   \n",
       "std       1.139480    90.250022          37.730892              6.606083   \n",
       "min       1.000000    20.000000           0.000000             20.000000   \n",
       "25%       1.000000    75.000000           2.000000             93.000000   \n",
       "50%       1.000000   100.000000           9.000000             96.000000   \n",
       "75%       2.000000   150.000000          26.000000             99.000000   \n",
       "max      15.000000  1000.000000         474.000000            100.000000   \n",
       "\n",
       "       reviews_per_month  amenities_len  \n",
       "count        3191.000000    3818.000000  \n",
       "mean            2.078919      14.358827  \n",
       "std             1.822348       4.741425  \n",
       "min             0.020000       0.000000  \n",
       "25%             0.695000      11.000000  \n",
       "50%             1.540000      14.000000  \n",
       "75%             3.000000      17.000000  \n",
       "max            12.150000      30.000000  "
      ]
     },
     "execution_count": 29,
     "metadata": {},
     "output_type": "execute_result"
    }
   ],
   "source": [
    "df.describe()"
   ]
  },
  {
   "cell_type": "code",
   "execution_count": 30,
   "metadata": {},
   "outputs": [
    {
     "data": {
      "text/plain": [
       "<matplotlib.axes._subplots.AxesSubplot at 0x1a6ee390>"
      ]
     },
     "execution_count": 30,
     "metadata": {},
     "output_type": "execute_result"
    },
    {
     "data": {
      "image/png": "[encoded data removed]",
      "text/plain": [
       "<Figure size 792x648 with 2 Axes>"
      ]
     },
     "metadata": {},
     "output_type": "display_data"
    }
   ],
   "source": [
    "sns.set(style=\"white\")\n",
    "\n",
    "# Compute the correlation matrix 'top90', 'upto25', .drop(['scrape_id', 'license'], axis=1)\n",
    "corr = df.corr()\n",
    "\n",
    "# Generate a mask for the upper triangle\n",
    "mask = np.zeros_like(corr, dtype=np.bool)\n",
    "mask[np.triu_indices_from(mask)] = True\n",
    "\n",
    "# Set up the matplotlib figure\n",
    "f, ax = plt.subplots(figsize=(11, 9))\n",
    "\n",
    "# Generate a custom diverging colormap\n",
    "cmap = sns.diverging_palette(220, 10, as_cmap=True)\n",
    "\n",
    "# Draw the heatmap with the mask and correct aspect ratio\n",
    "sns.heatmap(corr, mask=mask, cmap=cmap, vmax=1, vmin=-.5, center=0,\n",
    "            square=True, linewidths=.5, cbar_kws={\"shrink\": .8}, annot=True, fmt='.00')"
   ]
  },
  {
   "cell_type": "markdown",
   "metadata": {},
   "source": [
    "We can clearly see that the following variables are at least moderately correllated to the price: accomodates, bathrooms, bedrooms, beds. This comes at no surprise as you would expect that bigger appartments tend to have a higher price."
   ]
  },
  {
   "cell_type": "markdown",
   "metadata": {},
   "source": [
    "To use categorical variables in a linear regression model we first have to convert them to numerical variables. So I'll create dummy variables for all categorical variables."
   ]
  },
  {
   "cell_type": "code",
   "execution_count": 31,
   "metadata": {},
   "outputs": [
    {
     "data": {
      "text/html": [
       "<div>\n",
       "<style scoped>\n",
       "    .dataframe tbody tr th:only-of-type {\n",
       "        vertical-align: middle;\n",
       "    }\n",
       "\n",
       "    .dataframe tbody tr th {\n",
       "        vertical-align: top;\n",
       "    }\n",
       "\n",
       "    .dataframe thead th {\n",
       "        text-align: right;\n",
       "    }\n",
       "</style>\n",
       "<table border=\"1\" class=\"dataframe\">\n",
       "  <thead>\n",
       "    <tr style=\"text-align: right;\">\n",
       "      <th></th>\n",
       "      <th>host_response_rate</th>\n",
       "      <th>host_acceptance_rate</th>\n",
       "      <th>host_is_superhost</th>\n",
       "      <th>host_listings_count</th>\n",
       "      <th>host_total_listings_count</th>\n",
       "      <th>host_has_profile_pic</th>\n",
       "      <th>host_identity_verified</th>\n",
       "      <th>accommodates</th>\n",
       "      <th>bathrooms</th>\n",
       "      <th>bedrooms</th>\n",
       "      <th>...</th>\n",
       "      <th>zipcode_98126</th>\n",
       "      <th>zipcode_98133</th>\n",
       "      <th>zipcode_98134</th>\n",
       "      <th>zipcode_98136</th>\n",
       "      <th>zipcode_98144</th>\n",
       "      <th>zipcode_98146</th>\n",
       "      <th>zipcode_98177</th>\n",
       "      <th>zipcode_98178</th>\n",
       "      <th>zipcode_98199</th>\n",
       "      <th>zipcode_99\\n98122</th>\n",
       "    </tr>\n",
       "  </thead>\n",
       "  <tbody>\n",
       "    <tr>\n",
       "      <td>0</td>\n",
       "      <td>96.0</td>\n",
       "      <td>100.0</td>\n",
       "      <td>0</td>\n",
       "      <td>3.0</td>\n",
       "      <td>3.0</td>\n",
       "      <td>1</td>\n",
       "      <td>1</td>\n",
       "      <td>4</td>\n",
       "      <td>1.0</td>\n",
       "      <td>1.0</td>\n",
       "      <td>...</td>\n",
       "      <td>0</td>\n",
       "      <td>0</td>\n",
       "      <td>0</td>\n",
       "      <td>0</td>\n",
       "      <td>0</td>\n",
       "      <td>0</td>\n",
       "      <td>0</td>\n",
       "      <td>0</td>\n",
       "      <td>0</td>\n",
       "      <td>0</td>\n",
       "    </tr>\n",
       "    <tr>\n",
       "      <td>1</td>\n",
       "      <td>98.0</td>\n",
       "      <td>100.0</td>\n",
       "      <td>1</td>\n",
       "      <td>6.0</td>\n",
       "      <td>6.0</td>\n",
       "      <td>1</td>\n",
       "      <td>1</td>\n",
       "      <td>4</td>\n",
       "      <td>1.0</td>\n",
       "      <td>1.0</td>\n",
       "      <td>...</td>\n",
       "      <td>0</td>\n",
       "      <td>0</td>\n",
       "      <td>0</td>\n",
       "      <td>0</td>\n",
       "      <td>0</td>\n",
       "      <td>0</td>\n",
       "      <td>0</td>\n",
       "      <td>0</td>\n",
       "      <td>0</td>\n",
       "      <td>0</td>\n",
       "    </tr>\n",
       "    <tr>\n",
       "      <td>2</td>\n",
       "      <td>67.0</td>\n",
       "      <td>100.0</td>\n",
       "      <td>0</td>\n",
       "      <td>2.0</td>\n",
       "      <td>2.0</td>\n",
       "      <td>1</td>\n",
       "      <td>1</td>\n",
       "      <td>11</td>\n",
       "      <td>4.5</td>\n",
       "      <td>5.0</td>\n",
       "      <td>...</td>\n",
       "      <td>0</td>\n",
       "      <td>0</td>\n",
       "      <td>0</td>\n",
       "      <td>0</td>\n",
       "      <td>0</td>\n",
       "      <td>0</td>\n",
       "      <td>0</td>\n",
       "      <td>0</td>\n",
       "      <td>0</td>\n",
       "      <td>0</td>\n",
       "    </tr>\n",
       "    <tr>\n",
       "      <td>3</td>\n",
       "      <td>NaN</td>\n",
       "      <td>NaN</td>\n",
       "      <td>0</td>\n",
       "      <td>1.0</td>\n",
       "      <td>1.0</td>\n",
       "      <td>1</td>\n",
       "      <td>1</td>\n",
       "      <td>3</td>\n",
       "      <td>1.0</td>\n",
       "      <td>0.0</td>\n",
       "      <td>...</td>\n",
       "      <td>0</td>\n",
       "      <td>0</td>\n",
       "      <td>0</td>\n",
       "      <td>0</td>\n",
       "      <td>0</td>\n",
       "      <td>0</td>\n",
       "      <td>0</td>\n",
       "      <td>0</td>\n",
       "      <td>0</td>\n",
       "      <td>0</td>\n",
       "    </tr>\n",
       "    <tr>\n",
       "      <td>4</td>\n",
       "      <td>100.0</td>\n",
       "      <td>NaN</td>\n",
       "      <td>0</td>\n",
       "      <td>2.0</td>\n",
       "      <td>2.0</td>\n",
       "      <td>1</td>\n",
       "      <td>1</td>\n",
       "      <td>6</td>\n",
       "      <td>2.0</td>\n",
       "      <td>3.0</td>\n",
       "      <td>...</td>\n",
       "      <td>0</td>\n",
       "      <td>0</td>\n",
       "      <td>0</td>\n",
       "      <td>0</td>\n",
       "      <td>0</td>\n",
       "      <td>0</td>\n",
       "      <td>0</td>\n",
       "      <td>0</td>\n",
       "      <td>0</td>\n",
       "      <td>0</td>\n",
       "    </tr>\n",
       "    <tr>\n",
       "      <td>...</td>\n",
       "      <td>...</td>\n",
       "      <td>...</td>\n",
       "      <td>...</td>\n",
       "      <td>...</td>\n",
       "      <td>...</td>\n",
       "      <td>...</td>\n",
       "      <td>...</td>\n",
       "      <td>...</td>\n",
       "      <td>...</td>\n",
       "      <td>...</td>\n",
       "      <td>...</td>\n",
       "      <td>...</td>\n",
       "      <td>...</td>\n",
       "      <td>...</td>\n",
       "      <td>...</td>\n",
       "      <td>...</td>\n",
       "      <td>...</td>\n",
       "      <td>...</td>\n",
       "      <td>...</td>\n",
       "      <td>...</td>\n",
       "      <td>...</td>\n",
       "    </tr>\n",
       "    <tr>\n",
       "      <td>3813</td>\n",
       "      <td>99.0</td>\n",
       "      <td>100.0</td>\n",
       "      <td>0</td>\n",
       "      <td>354.0</td>\n",
       "      <td>354.0</td>\n",
       "      <td>1</td>\n",
       "      <td>1</td>\n",
       "      <td>6</td>\n",
       "      <td>2.0</td>\n",
       "      <td>3.0</td>\n",
       "      <td>...</td>\n",
       "      <td>0</td>\n",
       "      <td>0</td>\n",
       "      <td>0</td>\n",
       "      <td>0</td>\n",
       "      <td>0</td>\n",
       "      <td>0</td>\n",
       "      <td>0</td>\n",
       "      <td>0</td>\n",
       "      <td>0</td>\n",
       "      <td>0</td>\n",
       "    </tr>\n",
       "    <tr>\n",
       "      <td>3814</td>\n",
       "      <td>100.0</td>\n",
       "      <td>100.0</td>\n",
       "      <td>0</td>\n",
       "      <td>1.0</td>\n",
       "      <td>1.0</td>\n",
       "      <td>1</td>\n",
       "      <td>1</td>\n",
       "      <td>4</td>\n",
       "      <td>1.0</td>\n",
       "      <td>1.0</td>\n",
       "      <td>...</td>\n",
       "      <td>0</td>\n",
       "      <td>0</td>\n",
       "      <td>0</td>\n",
       "      <td>0</td>\n",
       "      <td>0</td>\n",
       "      <td>0</td>\n",
       "      <td>0</td>\n",
       "      <td>0</td>\n",
       "      <td>0</td>\n",
       "      <td>0</td>\n",
       "    </tr>\n",
       "    <tr>\n",
       "      <td>3815</td>\n",
       "      <td>NaN</td>\n",
       "      <td>NaN</td>\n",
       "      <td>0</td>\n",
       "      <td>1.0</td>\n",
       "      <td>1.0</td>\n",
       "      <td>1</td>\n",
       "      <td>0</td>\n",
       "      <td>2</td>\n",
       "      <td>1.0</td>\n",
       "      <td>1.0</td>\n",
       "      <td>...</td>\n",
       "      <td>0</td>\n",
       "      <td>0</td>\n",
       "      <td>0</td>\n",
       "      <td>0</td>\n",
       "      <td>0</td>\n",
       "      <td>0</td>\n",
       "      <td>0</td>\n",
       "      <td>1</td>\n",
       "      <td>0</td>\n",
       "      <td>0</td>\n",
       "    </tr>\n",
       "    <tr>\n",
       "      <td>3816</td>\n",
       "      <td>100.0</td>\n",
       "      <td>NaN</td>\n",
       "      <td>0</td>\n",
       "      <td>1.0</td>\n",
       "      <td>1.0</td>\n",
       "      <td>1</td>\n",
       "      <td>1</td>\n",
       "      <td>2</td>\n",
       "      <td>1.0</td>\n",
       "      <td>0.0</td>\n",
       "      <td>...</td>\n",
       "      <td>0</td>\n",
       "      <td>0</td>\n",
       "      <td>0</td>\n",
       "      <td>0</td>\n",
       "      <td>0</td>\n",
       "      <td>0</td>\n",
       "      <td>0</td>\n",
       "      <td>0</td>\n",
       "      <td>0</td>\n",
       "      <td>0</td>\n",
       "    </tr>\n",
       "    <tr>\n",
       "      <td>3817</td>\n",
       "      <td>100.0</td>\n",
       "      <td>NaN</td>\n",
       "      <td>0</td>\n",
       "      <td>1.0</td>\n",
       "      <td>1.0</td>\n",
       "      <td>1</td>\n",
       "      <td>1</td>\n",
       "      <td>3</td>\n",
       "      <td>1.5</td>\n",
       "      <td>2.0</td>\n",
       "      <td>...</td>\n",
       "      <td>0</td>\n",
       "      <td>0</td>\n",
       "      <td>0</td>\n",
       "      <td>0</td>\n",
       "      <td>0</td>\n",
       "      <td>0</td>\n",
       "      <td>0</td>\n",
       "      <td>0</td>\n",
       "      <td>0</td>\n",
       "      <td>0</td>\n",
       "    </tr>\n",
       "  </tbody>\n",
       "</table>\n",
       "<p>3818 rows × 64 columns</p>\n",
       "</div>"
      ],
      "text/plain": [
       "      host_response_rate  host_acceptance_rate  host_is_superhost  \\\n",
       "0                   96.0                 100.0                  0   \n",
       "1                   98.0                 100.0                  1   \n",
       "2                   67.0                 100.0                  0   \n",
       "3                    NaN                   NaN                  0   \n",
       "4                  100.0                   NaN                  0   \n",
       "...                  ...                   ...                ...   \n",
       "3813                99.0                 100.0                  0   \n",
       "3814               100.0                 100.0                  0   \n",
       "3815                 NaN                   NaN                  0   \n",
       "3816               100.0                   NaN                  0   \n",
       "3817               100.0                   NaN                  0   \n",
       "\n",
       "      host_listings_count  host_total_listings_count  host_has_profile_pic  \\\n",
       "0                     3.0                        3.0                     1   \n",
       "1                     6.0                        6.0                     1   \n",
       "2                     2.0                        2.0                     1   \n",
       "3                     1.0                        1.0                     1   \n",
       "4                     2.0                        2.0                     1   \n",
       "...                   ...                        ...                   ...   \n",
       "3813                354.0                      354.0                     1   \n",
       "3814                  1.0                        1.0                     1   \n",
       "3815                  1.0                        1.0                     1   \n",
       "3816                  1.0                        1.0                     1   \n",
       "3817                  1.0                        1.0                     1   \n",
       "\n",
       "      host_identity_verified  accommodates  bathrooms  bedrooms  ...  \\\n",
       "0                          1             4        1.0       1.0  ...   \n",
       "1                          1             4        1.0       1.0  ...   \n",
       "2                          1            11        4.5       5.0  ...   \n",
       "3                          1             3        1.0       0.0  ...   \n",
       "4                          1             6        2.0       3.0  ...   \n",
       "...                      ...           ...        ...       ...  ...   \n",
       "3813                       1             6        2.0       3.0  ...   \n",
       "3814                       1             4        1.0       1.0  ...   \n",
       "3815                       0             2        1.0       1.0  ...   \n",
       "3816                       1             2        1.0       0.0  ...   \n",
       "3817                       1             3        1.5       2.0  ...   \n",
       "\n",
       "      zipcode_98126 zipcode_98133  zipcode_98134  zipcode_98136  \\\n",
       "0                 0             0              0              0   \n",
       "1                 0             0              0              0   \n",
       "2                 0             0              0              0   \n",
       "3                 0             0              0              0   \n",
       "4                 0             0              0              0   \n",
       "...             ...           ...            ...            ...   \n",
       "3813              0             0              0              0   \n",
       "3814              0             0              0              0   \n",
       "3815              0             0              0              0   \n",
       "3816              0             0              0              0   \n",
       "3817              0             0              0              0   \n",
       "\n",
       "      zipcode_98144  zipcode_98146  zipcode_98177  zipcode_98178  \\\n",
       "0                 0              0              0              0   \n",
       "1                 0              0              0              0   \n",
       "2                 0              0              0              0   \n",
       "3                 0              0              0              0   \n",
       "4                 0              0              0              0   \n",
       "...             ...            ...            ...            ...   \n",
       "3813              0              0              0              0   \n",
       "3814              0              0              0              0   \n",
       "3815              0              0              0              1   \n",
       "3816              0              0              0              0   \n",
       "3817              0              0              0              0   \n",
       "\n",
       "      zipcode_98199  zipcode_99\\n98122  \n",
       "0                 0                  0  \n",
       "1                 0                  0  \n",
       "2                 0                  0  \n",
       "3                 0                  0  \n",
       "4                 0                  0  \n",
       "...             ...                ...  \n",
       "3813              0                  0  \n",
       "3814              0                  0  \n",
       "3815              0                  0  \n",
       "3816              0                  0  \n",
       "3817              0                  0  \n",
       "\n",
       "[3818 rows x 64 columns]"
      ]
     },
     "execution_count": 31,
     "metadata": {},
     "output_type": "execute_result"
    }
   ],
   "source": [
    "df = create_dummy_df(df, ['host_response_time', 'property_type', 'room_type', 'zipcode'], dummy_na=False)\n",
    "df"
   ]
  },
  {
   "cell_type": "markdown",
   "metadata": {},
   "source": [
    "## Predictive Modeling\n",
    "Preparing data for Regressor"
   ]
  },
  {
   "cell_type": "code",
   "execution_count": 40,
   "metadata": {},
   "outputs": [],
   "source": [
    "# Mean function\n",
    "fill_mean = lambda col: col.fillna(col.mean())\n",
    "# Imputing values with the mean\n",
    "df[['host_response_rate', 'host_acceptance_rate']] = df[['host_response_rate', 'host_acceptance_rate']].apply(fill_mean, axis=0)\n",
    "\n",
    "#dropping na values\n",
    "df = df.dropna()\n",
    "\n",
    "# Split into explanatory and response variables\n",
    "X = df.drop('price', axis=1)\n",
    "y = df['price']\n",
    "\n",
    "# Split into train and test\n",
    "X_train, X_test, y_train, y_test = train_test_split(X, y, test_size=.3, random_state=42)"
   ]
  },
  {
   "cell_type": "markdown",
   "metadata": {},
   "source": [
    "## Evaluating models"
   ]
  },
  {
   "cell_type": "markdown",
   "metadata": {},
   "source": [
    "### 1. Linear Regression model"
   ]
  },
  {
   "cell_type": "code",
   "execution_count": 137,
   "metadata": {},
   "outputs": [
    {
     "name": "stdout",
     "output_type": "stream",
     "text": [
      "test score: 0.5568981018763124\n",
      "train score: 0.6006337754217435\n",
      "RMSE: 62.9684\n"
     ]
    },
    {
     "data": {
      "image/png": "[encoded data removed]",
      "text/plain": [
       "<Figure size 432x288 with 1 Axes>"
      ]
     },
     "metadata": {
      "needs_background": "light"
     },
     "output_type": "display_data"
    }
   ],
   "source": [
    "lm_model = LinearRegression(normalize=True)  # Instantiate\n",
    "model, test_score, train_score, rmse = fitAndScoreModel(X_train, y_train, lm_model)\n",
    "plotPredVsResiduals(model, 'Linear Regression')"
   ]
  },
  {
   "cell_type": "markdown",
   "metadata": {},
   "source": [
    "## 2. Lasso"
   ]
  },
  {
   "cell_type": "code",
   "execution_count": 129,
   "metadata": {},
   "outputs": [
    {
     "name": "stdout",
     "output_type": "stream",
     "text": [
      "test score: 0.549103258569729\n",
      "train score: 0.5909280177419769\n",
      "RMSE: 63.5198\n"
     ]
    },
    {
     "data": {
      "image/png": "[encoded data removed]",
      "text/plain": [
       "<Figure size 432x288 with 1 Axes>"
      ]
     },
     "metadata": {
      "needs_background": "light"
     },
     "output_type": "display_data"
    }
   ],
   "source": [
    "lassoReg = Lasso(alpha=0.1, normalize=False, random_state=42)\n",
    "model, test_score, train_score, rmse = fitAndScoreModel(X_train, y_train, lassoReg)\n",
    "plotPredVsResiduals(model, 'Lasso Regression')"
   ]
  },
  {
   "cell_type": "markdown",
   "metadata": {},
   "source": [
    "## 3. Ridge Regression"
   ]
  },
  {
   "cell_type": "code",
   "execution_count": 130,
   "metadata": {},
   "outputs": [
    {
     "name": "stdout",
     "output_type": "stream",
     "text": [
      "test score: 0.5599890727848486\n",
      "train score: 0.5998648416180972\n",
      "RMSE: 62.7484\n"
     ]
    },
    {
     "data": {
      "image/png": "[encoded data removed]",
      "text/plain": [
       "<Figure size 432x288 with 1 Axes>"
      ]
     },
     "metadata": {
      "needs_background": "light"
     },
     "output_type": "display_data"
    }
   ],
   "source": [
    "ridgeReg = Ridge(alpha=.5)\n",
    "ridgeReg.fit(X_train, y_train)\n",
    "model, test_score, train_score, rmse = fitAndScoreModel(X_train, y_train, ridgeReg)\n",
    "plotPredVsResiduals(model, 'Ridge Regression')"
   ]
  },
  {
   "cell_type": "markdown",
   "metadata": {},
   "source": [
    "## 4. Random Forest"
   ]
  },
  {
   "cell_type": "code",
   "execution_count": 131,
   "metadata": {},
   "outputs": [
    {
     "name": "stdout",
     "output_type": "stream",
     "text": [
      "test score: 0.5008580287858002\n",
      "train score: 0.9454606147602865\n",
      "RMSE: 66.8317\n"
     ]
    },
    {
     "data": {
      "image/png": "[encoded data removed]",
      "text/plain": [
       "<Figure size 432x288 with 1 Axes>"
      ]
     },
     "metadata": {
      "needs_background": "light"
     },
     "output_type": "display_data"
    }
   ],
   "source": [
    "forest = RandomForestRegressor(n_estimators=600, \n",
    "                               criterion='mse', \n",
    "                               random_state=42, \n",
    "                               n_jobs=-1)\n",
    "model, test_score, train_score, rmse = fitAndScoreModel(X_train, y_train, forest)\n",
    "plotPredVsResiduals(model, 'Random Forest')"
   ]
  },
  {
   "cell_type": "markdown",
   "metadata": {},
   "source": [
    "The Random Forest model is clearly overfitting the train set and then performs poorly on the test set."
   ]
  },
  {
   "cell_type": "markdown",
   "metadata": {},
   "source": [
    "## 5. Gradient Boost"
   ]
  },
  {
   "cell_type": "code",
   "execution_count": 124,
   "metadata": {},
   "outputs": [
    {
     "name": "stdout",
     "output_type": "stream",
     "text": [
      "test score: 0.5008327533825965\n",
      "train score: 0.8126129234508019\n",
      "RMSE: 66.8334\n"
     ]
    },
    {
     "data": {
      "image/png": "[encoded data removed]",
      "text/plain": [
       "<Figure size 432x288 with 1 Axes>"
      ]
     },
     "metadata": {
      "needs_background": "light"
     },
     "output_type": "display_data"
    }
   ],
   "source": [
    "gbr = GradientBoostingRegressor(n_estimators=500, max_depth=4, min_samples_split=2,\n",
    "          learning_rate=0.01, loss='ls')\n",
    "model, test_score, train_score, rmse = fitAndScoreModel(X_train, y_train, gbr)\n",
    "plotPredVsResiduals(model, 'Gradient Boost')"
   ]
  },
  {
   "cell_type": "code",
   "execution_count": 125,
   "metadata": {},
   "outputs": [
    {
     "data": {
      "image/png": "[encoded data removed]",
      "text/plain": [
       "<Figure size 864x1440 with 1 Axes>"
      ]
     },
     "metadata": {
      "needs_background": "light"
     },
     "output_type": "display_data"
    }
   ],
   "source": [
    "plotFeatureImportance(df, model)"
   ]
  },
  {
   "cell_type": "markdown",
   "metadata": {},
   "source": [
    "As you can tell from the plot the number of bedrooms, bathrooms and accomodates are the most influential variable for predicting the price as these all are indicating a bigger appartment or house. But these 3 variables doesn't explain all the variance of the price. The Rating from the customer reviews also has an influence so landlords should care about making their renters stay as pleasant as possible. Some zipcodes also have an influence on the price so the location of the apartment does matter too.\n",
    "\n",
    "Wether you are a superhost or not or if you've got your identity verified or not doesn't really impact the price of the listing."
   ]
  },
  {
   "cell_type": "code",
   "execution_count": null,
   "metadata": {},
   "outputs": [],
   "source": []
  },
  {
   "cell_type": "code",
   "execution_count": null,
   "metadata": {},
   "outputs": [],
   "source": []
  },
  {
   "cell_type": "markdown",
   "metadata": {},
   "source": [
    "Mögliche Fragen zu airbnb Sets:\n",
    "Wie unterscheiden sich die Preise in München und Berlin?\n",
    "Was hat den meisten Einfluss auf die Preisfindung?\n",
    "Geben positive Reviews einen positiven Einfluss auf den Preis?"
   ]
  }
 ],
 "metadata": {
  "kernelspec": {
   "display_name": "DataScientistNanodegree",
   "language": "python",
   "name": "datascientistnanodegree"
  },
  "language_info": {
   "codemirror_mode": {
    "name": "ipython",
    "version": 3
   },
   "file_extension": ".py",
   "mimetype": "text/x-python",
   "name": "python",
   "nbconvert_exporter": "python",
   "pygments_lexer": "ipython3",
   "version": "3.7.2"
  }
 },
 "nbformat": 4,
 "nbformat_minor": 2
}
